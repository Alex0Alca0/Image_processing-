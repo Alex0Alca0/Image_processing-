{
  "cells": [
    {
      "cell_type": "code",
      "execution_count": null,
      "metadata": {
        "id": "yeVAmBRNRyj0"
      },
      "outputs": [],
      "source": [
        "import os \n",
        "import numpy as np \n",
        "import pandas as pd \n",
        "import skimage\n",
        "import imageio\n",
        "import scipy\n",
        "import matplotlib.pyplot as plt\n",
        "from PIL import Image\n",
        "import statistics\n",
        "from scipy.stats import kurtosis"
      ]
    },
    {
      "cell_type": "code",
      "execution_count": null,
      "metadata": {
        "id": "Iz7tqFwMRt2Z"
      },
      "outputs": [],
      "source": [
        "def PATH(IMG_path):\n",
        "  img_name=[]\n",
        "  for file_name in IMG_path: \n",
        "     img_name.append(file_name)\n",
        "     img_name.sort()\n",
        "     #file_name_jpg_arr = np.asarray(file_name_jpg)\n",
        "  return img_name"
      ]
    },
    {
      "cell_type": "code",
      "execution_count": null,
      "metadata": {
        "id": "EF1mw_sZRv5Q"
      },
      "outputs": [],
      "source": [
        "def vectRGB (path,Img):\n",
        "  Img = imageio.imread(path+'/'+Img)\n",
        "  \n",
        "  r,g,b = Img[:,:,0], Img[:,:,1], Img[:,:,2]\n",
        "\n",
        "  x = Img.shape[0]\n",
        "  y = Img.shape[1]\n",
        "  Vr=[]\n",
        "  Vb=[]\n",
        "  Vg=[]\n",
        "\n",
        "  for i in range(x-1):\n",
        "    for j in range(y-1):\n",
        "      Vr.append(r[i,j])\n",
        "\n",
        "  for i in range(x-1):\n",
        "    for j in range(y-1):\n",
        "      Vg.append(g[i,j])  \n",
        "\n",
        "  for i in range(x-1):\n",
        "    for j in range(y-1):\n",
        "      Vb.append(b[i,j]) \n",
        "  \n",
        "  vRGB = np.hstack((Vr,Vg,Vb))\n",
        "  VIMG = np.concatenate((Vr, Vg, Vb))\n",
        "\n",
        "  VectorR = np.zeros(256)\n",
        "  VectorG = np.zeros(256)\n",
        "  VectorB = np.zeros(256)\n",
        "\n",
        "  frecuenciaR = {}\n",
        "  frecuenciaG = {}\n",
        "  frecuenciaB = {}\n",
        "\n",
        "  for n in Vr:\n",
        "    if n in frecuenciaR:\n",
        "      frecuenciaR[n] += 1\n",
        "    else:\n",
        "      frecuenciaR[n] = 1\n",
        "\n",
        "  for n in Vg:\n",
        "    if n in frecuenciaG:\n",
        "      frecuenciaG[n] += 1\n",
        "    else:\n",
        "      frecuenciaG[n] = 1\n",
        "  \n",
        "  for n in Vb:\n",
        "    if n in frecuenciaB:\n",
        "      frecuenciaB[n] += 1\n",
        "    else:\n",
        "      frecuenciaB[n] = 1\n",
        "\n",
        "\n",
        "  for valorR in sorted(frecuenciaR):\n",
        "    VectorR[valorR] = frecuenciaR[valorR]\n",
        "\n",
        "  for valorG in sorted(frecuenciaG):\n",
        "    VectorG[valorG] = frecuenciaG[valorG]\n",
        "\n",
        "  for valorB in sorted(frecuenciaB):\n",
        "    VectorB[valorB] = frecuenciaB[valorB]\n",
        "\n",
        "  totalvect = np.concatenate((VectorR, VectorG, VectorB))\n",
        "\n",
        "  Rr = VectorR.tolist() \n",
        "  Gg = VectorG.tolist()\n",
        "  Bb = VectorB.tolist()\n",
        "\n",
        "  totallist = Rr+Gg+Bb\n",
        "\n",
        "\n",
        "  #return totalvect, frecuenciaR, VectorR, VectorG, VectorB\n",
        "  return totallist "
      ]
    },
    {
      "cell_type": "code",
      "execution_count": null,
      "metadata": {
        "id": "jXAap1DwQbmZ"
      },
      "outputs": [],
      "source": [
        "#este es el bueno, es igual al anterior (que voy aborrar)\n",
        "#y cuando lo borre, borrare el comentario, la unica diferencia \n",
        "#es que solamente voy a estar regresando un valor, para no agarrar poder computacional de más \n",
        "def vectRGB_S (path,Img):\n",
        "  Img = imageio.imread(path+'/'+Img)\n",
        "  \n",
        "  r,g,b = Img[:,:,0], Img[:,:,1], Img[:,:,2]\n",
        "\n",
        "  x = Img.shape[0]\n",
        "  y = Img.shape[1]\n",
        "  Vr=[]\n",
        "  Vb=[]\n",
        "  Vg=[]\n",
        "\n",
        "  for i in range(x-1):\n",
        "    for j in range(y-1):\n",
        "      Vr.append(r[i,j])\n",
        "\n",
        "  for i in range(x-1):\n",
        "    for j in range(y-1):\n",
        "      Vg.append(g[i,j])  \n",
        "\n",
        "  for i in range(x-1):\n",
        "    for j in range(y-1):\n",
        "      Vb.append(b[i,j]) \n",
        "  \n",
        "  vRGB = np.hstack((Vr,Vg,Vb))\n",
        "  VIMG = np.concatenate((Vr, Vg, Vb))\n",
        "\n",
        "  VectorR = np.zeros(256)\n",
        "  VectorG = np.zeros(256)\n",
        "  VectorB = np.zeros(256)\n",
        "\n",
        "  frecuenciaR = {}\n",
        "  frecuenciaG = {}\n",
        "  frecuenciaB = {}\n",
        "\n",
        "  for n in Vr:\n",
        "    if n in frecuenciaR:\n",
        "      frecuenciaR[n] += 1\n",
        "    else:\n",
        "      frecuenciaR[n] = 1\n",
        "\n",
        "  for n in Vg:\n",
        "    if n in frecuenciaG:\n",
        "      frecuenciaG[n] += 1\n",
        "    else:\n",
        "      frecuenciaG[n] = 1\n",
        "  \n",
        "  for n in Vb:\n",
        "    if n in frecuenciaB:\n",
        "      frecuenciaB[n] += 1\n",
        "    else:\n",
        "      frecuenciaB[n] = 1\n",
        "\n",
        "\n",
        "  for valorR in sorted(frecuenciaR):\n",
        "    VectorR[valorR] = frecuenciaR[valorR]\n",
        "\n",
        "  for valorG in sorted(frecuenciaG):\n",
        "    VectorG[valorG] = frecuenciaG[valorG]\n",
        "\n",
        "  for valorB in sorted(frecuenciaB):\n",
        "    VectorB[valorB] = frecuenciaB[valorB]\n",
        "\n",
        "  totalvect = np.concatenate((VectorR, VectorG, VectorB))\n",
        "\n",
        "  Rr = VectorR.tolist() \n",
        "  Gg = VectorG.tolist()\n",
        "  Bb = VectorB.tolist()\n",
        "\n",
        "  totallist = Rr+Gg+Bb\n",
        "\n",
        "\n",
        "  #return totalvect, frecuenciaR, VectorR, VectorG, VectorB\n",
        "  return Vr, Vg, Vb"
      ]
    },
    {
      "cell_type": "code",
      "execution_count": null,
      "metadata": {
        "id": "3N0ipfTRR5Bh"
      },
      "outputs": [],
      "source": [
        "main_path = '/content/drive/MyDrive/jonathan_patch/'\n",
        "path_sec = main_path + 'SEC/'\n",
        "path_sur = main_path + 'SUR/'"
      ]
    },
    {
      "cell_type": "code",
      "execution_count": null,
      "metadata": {
        "id": "pjm2fdf5r2oa"
      },
      "outputs": [],
      "source": [
        "path_sec_list = os.listdir(path_sec)\n",
        "path_sur_list = os.listdir(path_sur)"
      ]
    },
    {
      "cell_type": "code",
      "execution_count": null,
      "metadata": {
        "id": "uiU8-id4PeL7"
      },
      "outputs": [],
      "source": [
        "only_subtype = 'SEC-Subtype_Va'\n",
        "path_sub_sec_type = path_sec + only_subtype\n",
        "path_sub_sec_type_list =os.listdir(path_sub_sec_type)\n",
        "path_sub_sec_type_1 =  path_sub_sec_type + '_1'\n",
        "path_sub_sec_type_list_1 = os.listdir(path_sub_sec_type_1)"
      ]
    },
    {
      "cell_type": "code",
      "execution_count": null,
      "metadata": {
        "id": "Vlbu4ndKSUNf"
      },
      "outputs": [],
      "source": [
        "name = only_subtype"
      ]
    },
    {
      "cell_type": "markdown",
      "metadata": {
        "id": "vYo6ljHCRofY"
      },
      "source": [
        "###HISTOGRAMA"
      ]
    },
    {
      "cell_type": "code",
      "execution_count": null,
      "metadata": {
        "id": "4iBCVxkSRvLe"
      },
      "outputs": [],
      "source": [
        "Nombre=[]\n",
        "Value = []\n",
        "\n",
        "for i in range(len(PATH(path_sub_sec_type_list))):\n",
        "  Nombre.append(PATH(path_sub_sec_type_list)[i])\n",
        "for i in range(len(PATH(path_sub_sec_type_list))):\n",
        "  Value.append(vectRGB(path_sub_sec_type,PATH(path_sub_sec_type_list)[i]))\n",
        "\n",
        "\n",
        "for i in range(len(PATH(path_sub_sec_type_list_1))):\n",
        "  Nombre.append(PATH(path_sub_sec_type_list_1)[i])\n",
        "for i in range(len(PATH(path_sub_sec_type_list_1))):\n",
        "  Value.append(vectRGB(path_sub_sec_type_1,PATH(path_sub_sec_type_list_1)[i]))"
      ]
    },
    {
      "cell_type": "code",
      "execution_count": null,
      "metadata": {
        "id": "X2_Wl62pU_Em"
      },
      "outputs": [],
      "source": [
        "df_fi = pd.DataFrame()"
      ]
    },
    {
      "cell_type": "code",
      "execution_count": null,
      "metadata": {
        "colab": {
          "base_uri": "https://localhost:8080/"
        },
        "id": "FShSYGRGXZDo",
        "outputId": "0262f5dd-6496-4ac7-df3a-9189367fc095"
      },
      "outputs": [
        {
          "name": "stderr",
          "output_type": "stream",
          "text": [
            "<ipython-input-110-eeea26b8a4ab>:2: PerformanceWarning: DataFrame is highly fragmented.  This is usually the result of calling `frame.insert` many times, which has poor performance.  Consider joining all columns at once using pd.concat(axis=1) instead.  To get a de-fragmented frame, use `newframe = frame.copy()`\n",
            "  df_fi[i] = Value[i]\n"
          ]
        }
      ],
      "source": [
        "\n",
        "for i in range(len(Value)):\n",
        "  df_fi[i] = Value[i]\n",
        "\n",
        "df_fin = pd.DataFrame()\n",
        "df_fin= df_fi.transpose()"
      ]
    },
    {
      "cell_type": "code",
      "execution_count": null,
      "metadata": {
        "id": "KbizjrV7XNw9"
      },
      "outputs": [],
      "source": [
        "df_fin.insert(0, \"Nombre\", Nombre, allow_duplicates=False)"
      ]
    },
    {
      "cell_type": "code",
      "execution_count": null,
      "metadata": {
        "id": "jqo_2pOsoqsd"
      },
      "outputs": [],
      "source": [
        "df_fin.to_csv(only_subtype+'.csv')"
      ]
    },
    {
      "cell_type": "code",
      "execution_count": null,
      "metadata": {
        "colab": {
          "base_uri": "https://localhost:8080/",
          "height": 463
        },
        "id": "2F9ClvvzovN6",
        "outputId": "cae9dfed-86b6-4c0d-aba8-53d092a92075"
      },
      "outputs": [
        {
          "data": {
            "text/html": [
              "\n",
              "  <div id=\"df-fc8f3762-e622-44d4-b4c1-a71af62a0886\">\n",
              "    <div class=\"colab-df-container\">\n",
              "      <div>\n",
              "<style scoped>\n",
              "    .dataframe tbody tr th:only-of-type {\n",
              "        vertical-align: middle;\n",
              "    }\n",
              "\n",
              "    .dataframe tbody tr th {\n",
              "        vertical-align: top;\n",
              "    }\n",
              "\n",
              "    .dataframe thead th {\n",
              "        text-align: right;\n",
              "    }\n",
              "</style>\n",
              "<table border=\"1\" class=\"dataframe\">\n",
              "  <thead>\n",
              "    <tr style=\"text-align: right;\">\n",
              "      <th></th>\n",
              "      <th>Nombre</th>\n",
              "      <th>0</th>\n",
              "      <th>1</th>\n",
              "      <th>2</th>\n",
              "      <th>3</th>\n",
              "      <th>4</th>\n",
              "      <th>5</th>\n",
              "      <th>6</th>\n",
              "      <th>7</th>\n",
              "      <th>8</th>\n",
              "      <th>...</th>\n",
              "      <th>758</th>\n",
              "      <th>759</th>\n",
              "      <th>760</th>\n",
              "      <th>761</th>\n",
              "      <th>762</th>\n",
              "      <th>763</th>\n",
              "      <th>764</th>\n",
              "      <th>765</th>\n",
              "      <th>766</th>\n",
              "      <th>767</th>\n",
              "    </tr>\n",
              "  </thead>\n",
              "  <tbody>\n",
              "    <tr>\n",
              "      <th>0</th>\n",
              "      <td>10538 - surface 1-1.png</td>\n",
              "      <td>0.0</td>\n",
              "      <td>0.0</td>\n",
              "      <td>0.0</td>\n",
              "      <td>0.0</td>\n",
              "      <td>0.0</td>\n",
              "      <td>0.0</td>\n",
              "      <td>0.0</td>\n",
              "      <td>0.0</td>\n",
              "      <td>0.0</td>\n",
              "      <td>...</td>\n",
              "      <td>28.0</td>\n",
              "      <td>12.0</td>\n",
              "      <td>17.0</td>\n",
              "      <td>25.0</td>\n",
              "      <td>21.0</td>\n",
              "      <td>13.0</td>\n",
              "      <td>16.0</td>\n",
              "      <td>8.0</td>\n",
              "      <td>5.0</td>\n",
              "      <td>34.0</td>\n",
              "    </tr>\n",
              "    <tr>\n",
              "      <th>1</th>\n",
              "      <td>10538 - surface 1-10.png</td>\n",
              "      <td>0.0</td>\n",
              "      <td>0.0</td>\n",
              "      <td>0.0</td>\n",
              "      <td>0.0</td>\n",
              "      <td>0.0</td>\n",
              "      <td>0.0</td>\n",
              "      <td>0.0</td>\n",
              "      <td>0.0</td>\n",
              "      <td>0.0</td>\n",
              "      <td>...</td>\n",
              "      <td>31.0</td>\n",
              "      <td>16.0</td>\n",
              "      <td>18.0</td>\n",
              "      <td>27.0</td>\n",
              "      <td>22.0</td>\n",
              "      <td>17.0</td>\n",
              "      <td>19.0</td>\n",
              "      <td>12.0</td>\n",
              "      <td>7.0</td>\n",
              "      <td>39.0</td>\n",
              "    </tr>\n",
              "    <tr>\n",
              "      <th>2</th>\n",
              "      <td>10538 - surface 1-11.png</td>\n",
              "      <td>0.0</td>\n",
              "      <td>0.0</td>\n",
              "      <td>0.0</td>\n",
              "      <td>0.0</td>\n",
              "      <td>0.0</td>\n",
              "      <td>0.0</td>\n",
              "      <td>0.0</td>\n",
              "      <td>0.0</td>\n",
              "      <td>0.0</td>\n",
              "      <td>...</td>\n",
              "      <td>31.0</td>\n",
              "      <td>16.0</td>\n",
              "      <td>18.0</td>\n",
              "      <td>27.0</td>\n",
              "      <td>22.0</td>\n",
              "      <td>17.0</td>\n",
              "      <td>19.0</td>\n",
              "      <td>12.0</td>\n",
              "      <td>7.0</td>\n",
              "      <td>39.0</td>\n",
              "    </tr>\n",
              "    <tr>\n",
              "      <th>3</th>\n",
              "      <td>10538 - surface 1-12.png</td>\n",
              "      <td>0.0</td>\n",
              "      <td>0.0</td>\n",
              "      <td>0.0</td>\n",
              "      <td>0.0</td>\n",
              "      <td>0.0</td>\n",
              "      <td>0.0</td>\n",
              "      <td>0.0</td>\n",
              "      <td>0.0</td>\n",
              "      <td>0.0</td>\n",
              "      <td>...</td>\n",
              "      <td>31.0</td>\n",
              "      <td>16.0</td>\n",
              "      <td>18.0</td>\n",
              "      <td>27.0</td>\n",
              "      <td>22.0</td>\n",
              "      <td>17.0</td>\n",
              "      <td>19.0</td>\n",
              "      <td>12.0</td>\n",
              "      <td>7.0</td>\n",
              "      <td>39.0</td>\n",
              "    </tr>\n",
              "    <tr>\n",
              "      <th>4</th>\n",
              "      <td>10538 - surface 1-13.png</td>\n",
              "      <td>0.0</td>\n",
              "      <td>0.0</td>\n",
              "      <td>0.0</td>\n",
              "      <td>0.0</td>\n",
              "      <td>0.0</td>\n",
              "      <td>0.0</td>\n",
              "      <td>0.0</td>\n",
              "      <td>0.0</td>\n",
              "      <td>0.0</td>\n",
              "      <td>...</td>\n",
              "      <td>31.0</td>\n",
              "      <td>16.0</td>\n",
              "      <td>18.0</td>\n",
              "      <td>27.0</td>\n",
              "      <td>22.0</td>\n",
              "      <td>17.0</td>\n",
              "      <td>19.0</td>\n",
              "      <td>12.0</td>\n",
              "      <td>7.0</td>\n",
              "      <td>39.0</td>\n",
              "    </tr>\n",
              "    <tr>\n",
              "      <th>...</th>\n",
              "      <td>...</td>\n",
              "      <td>...</td>\n",
              "      <td>...</td>\n",
              "      <td>...</td>\n",
              "      <td>...</td>\n",
              "      <td>...</td>\n",
              "      <td>...</td>\n",
              "      <td>...</td>\n",
              "      <td>...</td>\n",
              "      <td>...</td>\n",
              "      <td>...</td>\n",
              "      <td>...</td>\n",
              "      <td>...</td>\n",
              "      <td>...</td>\n",
              "      <td>...</td>\n",
              "      <td>...</td>\n",
              "      <td>...</td>\n",
              "      <td>...</td>\n",
              "      <td>...</td>\n",
              "      <td>...</td>\n",
              "      <td>...</td>\n",
              "    </tr>\n",
              "    <tr>\n",
              "      <th>995</th>\n",
              "      <td>4066 - surface 4-5.png</td>\n",
              "      <td>3.0</td>\n",
              "      <td>1.0</td>\n",
              "      <td>2.0</td>\n",
              "      <td>3.0</td>\n",
              "      <td>5.0</td>\n",
              "      <td>5.0</td>\n",
              "      <td>8.0</td>\n",
              "      <td>14.0</td>\n",
              "      <td>44.0</td>\n",
              "      <td>...</td>\n",
              "      <td>4.0</td>\n",
              "      <td>1.0</td>\n",
              "      <td>1.0</td>\n",
              "      <td>0.0</td>\n",
              "      <td>0.0</td>\n",
              "      <td>0.0</td>\n",
              "      <td>0.0</td>\n",
              "      <td>0.0</td>\n",
              "      <td>0.0</td>\n",
              "      <td>0.0</td>\n",
              "    </tr>\n",
              "    <tr>\n",
              "      <th>996</th>\n",
              "      <td>4066 - surface 4-6.png</td>\n",
              "      <td>3.0</td>\n",
              "      <td>1.0</td>\n",
              "      <td>1.0</td>\n",
              "      <td>3.0</td>\n",
              "      <td>5.0</td>\n",
              "      <td>4.0</td>\n",
              "      <td>1.0</td>\n",
              "      <td>0.0</td>\n",
              "      <td>0.0</td>\n",
              "      <td>...</td>\n",
              "      <td>4.0</td>\n",
              "      <td>1.0</td>\n",
              "      <td>1.0</td>\n",
              "      <td>0.0</td>\n",
              "      <td>0.0</td>\n",
              "      <td>0.0</td>\n",
              "      <td>0.0</td>\n",
              "      <td>0.0</td>\n",
              "      <td>0.0</td>\n",
              "      <td>0.0</td>\n",
              "    </tr>\n",
              "    <tr>\n",
              "      <th>997</th>\n",
              "      <td>4066 - surface 4-7.png</td>\n",
              "      <td>0.0</td>\n",
              "      <td>1.0</td>\n",
              "      <td>0.0</td>\n",
              "      <td>1.0</td>\n",
              "      <td>2.0</td>\n",
              "      <td>2.0</td>\n",
              "      <td>0.0</td>\n",
              "      <td>0.0</td>\n",
              "      <td>0.0</td>\n",
              "      <td>...</td>\n",
              "      <td>5.0</td>\n",
              "      <td>3.0</td>\n",
              "      <td>2.0</td>\n",
              "      <td>1.0</td>\n",
              "      <td>1.0</td>\n",
              "      <td>0.0</td>\n",
              "      <td>0.0</td>\n",
              "      <td>0.0</td>\n",
              "      <td>0.0</td>\n",
              "      <td>0.0</td>\n",
              "    </tr>\n",
              "    <tr>\n",
              "      <th>998</th>\n",
              "      <td>4066 - surface 4-8.png</td>\n",
              "      <td>0.0</td>\n",
              "      <td>2.0</td>\n",
              "      <td>2.0</td>\n",
              "      <td>2.0</td>\n",
              "      <td>3.0</td>\n",
              "      <td>6.0</td>\n",
              "      <td>4.0</td>\n",
              "      <td>8.0</td>\n",
              "      <td>17.0</td>\n",
              "      <td>...</td>\n",
              "      <td>7.0</td>\n",
              "      <td>4.0</td>\n",
              "      <td>3.0</td>\n",
              "      <td>1.0</td>\n",
              "      <td>1.0</td>\n",
              "      <td>0.0</td>\n",
              "      <td>0.0</td>\n",
              "      <td>0.0</td>\n",
              "      <td>0.0</td>\n",
              "      <td>0.0</td>\n",
              "    </tr>\n",
              "    <tr>\n",
              "      <th>999</th>\n",
              "      <td>4066 - surface 4-9.png</td>\n",
              "      <td>0.0</td>\n",
              "      <td>2.0</td>\n",
              "      <td>2.0</td>\n",
              "      <td>2.0</td>\n",
              "      <td>5.0</td>\n",
              "      <td>14.0</td>\n",
              "      <td>16.0</td>\n",
              "      <td>27.0</td>\n",
              "      <td>32.0</td>\n",
              "      <td>...</td>\n",
              "      <td>7.0</td>\n",
              "      <td>4.0</td>\n",
              "      <td>3.0</td>\n",
              "      <td>1.0</td>\n",
              "      <td>1.0</td>\n",
              "      <td>0.0</td>\n",
              "      <td>0.0</td>\n",
              "      <td>0.0</td>\n",
              "      <td>0.0</td>\n",
              "      <td>0.0</td>\n",
              "    </tr>\n",
              "  </tbody>\n",
              "</table>\n",
              "<p>1000 rows × 769 columns</p>\n",
              "</div>\n",
              "      <button class=\"colab-df-convert\" onclick=\"convertToInteractive('df-fc8f3762-e622-44d4-b4c1-a71af62a0886')\"\n",
              "              title=\"Convert this dataframe to an interactive table.\"\n",
              "              style=\"display:none;\">\n",
              "        \n",
              "  <svg xmlns=\"http://www.w3.org/2000/svg\" height=\"24px\"viewBox=\"0 0 24 24\"\n",
              "       width=\"24px\">\n",
              "    <path d=\"M0 0h24v24H0V0z\" fill=\"none\"/>\n",
              "    <path d=\"M18.56 5.44l.94 2.06.94-2.06 2.06-.94-2.06-.94-.94-2.06-.94 2.06-2.06.94zm-11 1L8.5 8.5l.94-2.06 2.06-.94-2.06-.94L8.5 2.5l-.94 2.06-2.06.94zm10 10l.94 2.06.94-2.06 2.06-.94-2.06-.94-.94-2.06-.94 2.06-2.06.94z\"/><path d=\"M17.41 7.96l-1.37-1.37c-.4-.4-.92-.59-1.43-.59-.52 0-1.04.2-1.43.59L10.3 9.45l-7.72 7.72c-.78.78-.78 2.05 0 2.83L4 21.41c.39.39.9.59 1.41.59.51 0 1.02-.2 1.41-.59l7.78-7.78 2.81-2.81c.8-.78.8-2.07 0-2.86zM5.41 20L4 18.59l7.72-7.72 1.47 1.35L5.41 20z\"/>\n",
              "  </svg>\n",
              "      </button>\n",
              "      \n",
              "  <style>\n",
              "    .colab-df-container {\n",
              "      display:flex;\n",
              "      flex-wrap:wrap;\n",
              "      gap: 12px;\n",
              "    }\n",
              "\n",
              "    .colab-df-convert {\n",
              "      background-color: #E8F0FE;\n",
              "      border: none;\n",
              "      border-radius: 50%;\n",
              "      cursor: pointer;\n",
              "      display: none;\n",
              "      fill: #1967D2;\n",
              "      height: 32px;\n",
              "      padding: 0 0 0 0;\n",
              "      width: 32px;\n",
              "    }\n",
              "\n",
              "    .colab-df-convert:hover {\n",
              "      background-color: #E2EBFA;\n",
              "      box-shadow: 0px 1px 2px rgba(60, 64, 67, 0.3), 0px 1px 3px 1px rgba(60, 64, 67, 0.15);\n",
              "      fill: #174EA6;\n",
              "    }\n",
              "\n",
              "    [theme=dark] .colab-df-convert {\n",
              "      background-color: #3B4455;\n",
              "      fill: #D2E3FC;\n",
              "    }\n",
              "\n",
              "    [theme=dark] .colab-df-convert:hover {\n",
              "      background-color: #434B5C;\n",
              "      box-shadow: 0px 1px 3px 1px rgba(0, 0, 0, 0.15);\n",
              "      filter: drop-shadow(0px 1px 2px rgba(0, 0, 0, 0.3));\n",
              "      fill: #FFFFFF;\n",
              "    }\n",
              "  </style>\n",
              "\n",
              "      <script>\n",
              "        const buttonEl =\n",
              "          document.querySelector('#df-fc8f3762-e622-44d4-b4c1-a71af62a0886 button.colab-df-convert');\n",
              "        buttonEl.style.display =\n",
              "          google.colab.kernel.accessAllowed ? 'block' : 'none';\n",
              "\n",
              "        async function convertToInteractive(key) {\n",
              "          const element = document.querySelector('#df-fc8f3762-e622-44d4-b4c1-a71af62a0886');\n",
              "          const dataTable =\n",
              "            await google.colab.kernel.invokeFunction('convertToInteractive',\n",
              "                                                     [key], {});\n",
              "          if (!dataTable) return;\n",
              "\n",
              "          const docLinkHtml = 'Like what you see? Visit the ' +\n",
              "            '<a target=\"_blank\" href=https://colab.research.google.com/notebooks/data_table.ipynb>data table notebook</a>'\n",
              "            + ' to learn more about interactive tables.';\n",
              "          element.innerHTML = '';\n",
              "          dataTable['output_type'] = 'display_data';\n",
              "          await google.colab.output.renderOutput(dataTable, element);\n",
              "          const docLink = document.createElement('div');\n",
              "          docLink.innerHTML = docLinkHtml;\n",
              "          element.appendChild(docLink);\n",
              "        }\n",
              "      </script>\n",
              "    </div>\n",
              "  </div>\n",
              "  "
            ],
            "text/plain": [
              "                       Nombre    0    1    2    3    4     5     6     7  \\\n",
              "0     10538 - surface 1-1.png  0.0  0.0  0.0  0.0  0.0   0.0   0.0   0.0   \n",
              "1    10538 - surface 1-10.png  0.0  0.0  0.0  0.0  0.0   0.0   0.0   0.0   \n",
              "2    10538 - surface 1-11.png  0.0  0.0  0.0  0.0  0.0   0.0   0.0   0.0   \n",
              "3    10538 - surface 1-12.png  0.0  0.0  0.0  0.0  0.0   0.0   0.0   0.0   \n",
              "4    10538 - surface 1-13.png  0.0  0.0  0.0  0.0  0.0   0.0   0.0   0.0   \n",
              "..                        ...  ...  ...  ...  ...  ...   ...   ...   ...   \n",
              "995    4066 - surface 4-5.png  3.0  1.0  2.0  3.0  5.0   5.0   8.0  14.0   \n",
              "996    4066 - surface 4-6.png  3.0  1.0  1.0  3.0  5.0   4.0   1.0   0.0   \n",
              "997    4066 - surface 4-7.png  0.0  1.0  0.0  1.0  2.0   2.0   0.0   0.0   \n",
              "998    4066 - surface 4-8.png  0.0  2.0  2.0  2.0  3.0   6.0   4.0   8.0   \n",
              "999    4066 - surface 4-9.png  0.0  2.0  2.0  2.0  5.0  14.0  16.0  27.0   \n",
              "\n",
              "        8  ...   758   759   760   761   762   763   764   765  766   767  \n",
              "0     0.0  ...  28.0  12.0  17.0  25.0  21.0  13.0  16.0   8.0  5.0  34.0  \n",
              "1     0.0  ...  31.0  16.0  18.0  27.0  22.0  17.0  19.0  12.0  7.0  39.0  \n",
              "2     0.0  ...  31.0  16.0  18.0  27.0  22.0  17.0  19.0  12.0  7.0  39.0  \n",
              "3     0.0  ...  31.0  16.0  18.0  27.0  22.0  17.0  19.0  12.0  7.0  39.0  \n",
              "4     0.0  ...  31.0  16.0  18.0  27.0  22.0  17.0  19.0  12.0  7.0  39.0  \n",
              "..    ...  ...   ...   ...   ...   ...   ...   ...   ...   ...  ...   ...  \n",
              "995  44.0  ...   4.0   1.0   1.0   0.0   0.0   0.0   0.0   0.0  0.0   0.0  \n",
              "996   0.0  ...   4.0   1.0   1.0   0.0   0.0   0.0   0.0   0.0  0.0   0.0  \n",
              "997   0.0  ...   5.0   3.0   2.0   1.0   1.0   0.0   0.0   0.0  0.0   0.0  \n",
              "998  17.0  ...   7.0   4.0   3.0   1.0   1.0   0.0   0.0   0.0  0.0   0.0  \n",
              "999  32.0  ...   7.0   4.0   3.0   1.0   1.0   0.0   0.0   0.0  0.0   0.0  \n",
              "\n",
              "[1000 rows x 769 columns]"
            ]
          },
          "execution_count": 113,
          "metadata": {},
          "output_type": "execute_result"
        }
      ],
      "source": [
        "df_fin"
      ]
    },
    {
      "cell_type": "markdown",
      "metadata": {
        "id": "lQBlG-rmNU9f"
      },
      "source": [
        "###STATS"
      ]
    },
    {
      "cell_type": "code",
      "execution_count": null,
      "metadata": {
        "id": "FGQLZgNeNUci"
      },
      "outputs": [],
      "source": [
        "VR_M = []\n",
        "VG_M = []\n",
        "VB_M = []\n",
        "\n",
        "VR_std = []\n",
        "VG_std = []\n",
        "VB_std = []\n",
        "\n",
        "VR_var = []\n",
        "VG_var = []\n",
        "VB_var = []\n",
        "\n",
        "VR_kur = []\n",
        "VG_kur = []\n",
        "VB_kur = []\n",
        "\n",
        "\n",
        "VR_1 = []\n",
        "VG_1 = []\n",
        "VB_1 = []\n",
        "\n",
        "for i in range(len(PATH(path_sub_sec_type_list))):\n",
        "  VR_, VG_, VB_ = vectRGB_S (path_sub_sec_type,PATH(path_sub_sec_type_list)[i])\n",
        "  \n",
        "  VR_1.append(VR_)\n",
        "  VG_1.append(VG_)\n",
        "  VB_1.append(VB_)\n",
        "\n",
        "for i in range(len(PATH(path_sub_sec_type_list_1))):\n",
        "  VR_, VG_, VB_ = vectRGB_S (path_sub_sec_type_1,PATH(path_sub_sec_type_list_1)[i])\n",
        "  \n",
        "  VR_1.append(VR_)\n",
        "  VG_1.append(VG_)\n",
        "  VB_1.append(VB_) \n"
      ]
    },
    {
      "cell_type": "code",
      "execution_count": null,
      "metadata": {
        "colab": {
          "base_uri": "https://localhost:8080/"
        },
        "id": "z5SXs8dHkrtJ",
        "outputId": "e6ab8229-f985-4ff5-e7d8-6fa0c62b1e6c"
      },
      "outputs": [
        {
          "data": {
            "text/plain": [
              "1000"
            ]
          },
          "execution_count": 218,
          "metadata": {},
          "output_type": "execute_result"
        }
      ],
      "source": [
        "len(VR_1)"
      ]
    },
    {
      "cell_type": "code",
      "execution_count": null,
      "metadata": {
        "id": "b79qdzDbRNPp"
      },
      "outputs": [],
      "source": [
        "VR_1_T = []\n",
        "VG_1_T = []\n",
        "VB_1_T = []\n",
        "\n",
        "for i in range(len(VR_1)):\n",
        "  for j in range(len(VR_1[i])):\n",
        "    VR_1_T.append(VR_1[i][j])\n",
        "\n",
        "for i in range(len(VG_1)):\n",
        "  for j in range(len(VG_1[i])):\n",
        "    VG_1_T.append(VG_1[i][j])\n",
        "\n",
        "for i in range(len(VB_1)):\n",
        "  for j in range(len(VB_1[i])):\n",
        "    VB_1_T.append(VB_1[i][j])\n",
        "\n",
        "\n",
        "VR_1_T = np.asarray(VR_1_T)\n",
        "VG_1_T = np.asarray(VG_1_T)\n",
        "VB_1_T = np.asarray(VB_1_T)\n",
        "\n",
        "R_mean = VR_1_T.mean()\n",
        "G_mean = VG_1_T.mean()\n",
        "B_mean = VB_1_T.mean()\n",
        "\n",
        "R_std = VR_1_T.std()\n",
        "G_std = VG_1_T.std()\n",
        "B_std = VB_1_T.std()\n",
        "\n",
        "R_var = VR_1_T.var()\n",
        "G_var = VG_1_T.var()\n",
        "B_var = VB_1_T.var()\n",
        "\n",
        "R_kur = kurtosis(VR_1_T)\n",
        "G_kur = kurtosis(VG_1_T)\n",
        "B_kur = kurtosis(VB_1_T)"
      ]
    },
    {
      "cell_type": "code",
      "execution_count": null,
      "metadata": {
        "id": "j2hwEyZIRQDA"
      },
      "outputs": [],
      "source": [
        "#df_1 = pd.DataFrame([R_mean,G_mean,B_mean,R_std,G_std,B_std,R_var,G_var,B_var,R_kur,G_kur,B_kur], columns = [name], index= ['R_mean','G_mean','B_mean','R_std','G_std','B_std',\n",
        "#                                                                                        'R_var','G_var','B_var','R_kur','G_kur','B_kur'])"
      ]
    },
    {
      "cell_type": "code",
      "execution_count": null,
      "metadata": {
        "id": "gVD7tKb-RSpk"
      },
      "outputs": [],
      "source": [
        "stats= []\n",
        "stats = [R_mean,G_mean,B_mean,R_std,G_std,B_std,R_var,G_var,B_var,R_kur,G_kur,B_kur]\n",
        "stats = np.asarray(stats)"
      ]
    },
    {
      "cell_type": "code",
      "execution_count": null,
      "metadata": {
        "id": "CEgmJ_EbRUZa"
      },
      "outputs": [],
      "source": [
        "df_1[name] = stats"
      ]
    },
    {
      "cell_type": "code",
      "execution_count": null,
      "metadata": {
        "colab": {
          "base_uri": "https://localhost:8080/",
          "height": 421
        },
        "id": "Ilnme-ULZK_L",
        "outputId": "02f001da-b066-4005-b71d-e024f5b5faa8"
      },
      "outputs": [
        {
          "data": {
            "text/html": [
              "\n",
              "  <div id=\"df-16906978-1223-4a87-9677-2ea91146522c\">\n",
              "    <div class=\"colab-df-container\">\n",
              "      <div>\n",
              "<style scoped>\n",
              "    .dataframe tbody tr th:only-of-type {\n",
              "        vertical-align: middle;\n",
              "    }\n",
              "\n",
              "    .dataframe tbody tr th {\n",
              "        vertical-align: top;\n",
              "    }\n",
              "\n",
              "    .dataframe thead th {\n",
              "        text-align: right;\n",
              "    }\n",
              "</style>\n",
              "<table border=\"1\" class=\"dataframe\">\n",
              "  <thead>\n",
              "    <tr style=\"text-align: right;\">\n",
              "      <th></th>\n",
              "      <th>SUR-Subtype_IIIa</th>\n",
              "      <th>SUR-Subtype_IIa</th>\n",
              "      <th>SUR-Subtype_IVc</th>\n",
              "      <th>SUR-Subtype_IVd</th>\n",
              "      <th>SUR-Subtype_Ia</th>\n",
              "      <th>SUR-Subtype_Va</th>\n",
              "    </tr>\n",
              "  </thead>\n",
              "  <tbody>\n",
              "    <tr>\n",
              "      <th>R_mean</th>\n",
              "      <td>172.720654</td>\n",
              "      <td>175.227195</td>\n",
              "      <td>173.140438</td>\n",
              "      <td>178.356957</td>\n",
              "      <td>143.907122</td>\n",
              "      <td>183.536920</td>\n",
              "    </tr>\n",
              "    <tr>\n",
              "      <th>G_mean</th>\n",
              "      <td>151.455125</td>\n",
              "      <td>136.285393</td>\n",
              "      <td>163.856455</td>\n",
              "      <td>169.056096</td>\n",
              "      <td>131.266841</td>\n",
              "      <td>162.612988</td>\n",
              "    </tr>\n",
              "    <tr>\n",
              "      <th>B_mean</th>\n",
              "      <td>126.931984</td>\n",
              "      <td>111.927927</td>\n",
              "      <td>141.440504</td>\n",
              "      <td>148.943391</td>\n",
              "      <td>115.273058</td>\n",
              "      <td>147.993792</td>\n",
              "    </tr>\n",
              "    <tr>\n",
              "      <th>R_std</th>\n",
              "      <td>53.775302</td>\n",
              "      <td>53.581219</td>\n",
              "      <td>50.563656</td>\n",
              "      <td>45.372960</td>\n",
              "      <td>51.964467</td>\n",
              "      <td>51.001305</td>\n",
              "    </tr>\n",
              "    <tr>\n",
              "      <th>G_std</th>\n",
              "      <td>51.816514</td>\n",
              "      <td>53.901729</td>\n",
              "      <td>48.674319</td>\n",
              "      <td>43.054749</td>\n",
              "      <td>48.931293</td>\n",
              "      <td>53.313065</td>\n",
              "    </tr>\n",
              "    <tr>\n",
              "      <th>B_std</th>\n",
              "      <td>53.358753</td>\n",
              "      <td>54.962429</td>\n",
              "      <td>46.679728</td>\n",
              "      <td>40.053266</td>\n",
              "      <td>47.132503</td>\n",
              "      <td>57.377540</td>\n",
              "    </tr>\n",
              "    <tr>\n",
              "      <th>R_var</th>\n",
              "      <td>2891.783107</td>\n",
              "      <td>2870.947003</td>\n",
              "      <td>2556.683331</td>\n",
              "      <td>2058.705516</td>\n",
              "      <td>2700.305792</td>\n",
              "      <td>2601.133062</td>\n",
              "    </tr>\n",
              "    <tr>\n",
              "      <th>G_var</th>\n",
              "      <td>2684.951152</td>\n",
              "      <td>2905.396344</td>\n",
              "      <td>2369.189287</td>\n",
              "      <td>1853.711453</td>\n",
              "      <td>2394.271469</td>\n",
              "      <td>2842.282939</td>\n",
              "    </tr>\n",
              "    <tr>\n",
              "      <th>B_var</th>\n",
              "      <td>2847.156502</td>\n",
              "      <td>3020.868615</td>\n",
              "      <td>2178.997030</td>\n",
              "      <td>1604.264101</td>\n",
              "      <td>2221.472884</td>\n",
              "      <td>3292.182126</td>\n",
              "    </tr>\n",
              "    <tr>\n",
              "      <th>R_kur</th>\n",
              "      <td>0.187462</td>\n",
              "      <td>1.285094</td>\n",
              "      <td>0.141521</td>\n",
              "      <td>1.119641</td>\n",
              "      <td>-0.300401</td>\n",
              "      <td>0.893997</td>\n",
              "    </tr>\n",
              "    <tr>\n",
              "      <th>G_kur</th>\n",
              "      <td>-0.212137</td>\n",
              "      <td>-0.081210</td>\n",
              "      <td>0.125041</td>\n",
              "      <td>1.170828</td>\n",
              "      <td>-0.139489</td>\n",
              "      <td>-0.190388</td>\n",
              "    </tr>\n",
              "    <tr>\n",
              "      <th>B_kur</th>\n",
              "      <td>-0.448495</td>\n",
              "      <td>-0.116681</td>\n",
              "      <td>0.094611</td>\n",
              "      <td>1.156424</td>\n",
              "      <td>0.160849</td>\n",
              "      <td>-0.725729</td>\n",
              "    </tr>\n",
              "  </tbody>\n",
              "</table>\n",
              "</div>\n",
              "      <button class=\"colab-df-convert\" onclick=\"convertToInteractive('df-16906978-1223-4a87-9677-2ea91146522c')\"\n",
              "              title=\"Convert this dataframe to an interactive table.\"\n",
              "              style=\"display:none;\">\n",
              "        \n",
              "  <svg xmlns=\"http://www.w3.org/2000/svg\" height=\"24px\"viewBox=\"0 0 24 24\"\n",
              "       width=\"24px\">\n",
              "    <path d=\"M0 0h24v24H0V0z\" fill=\"none\"/>\n",
              "    <path d=\"M18.56 5.44l.94 2.06.94-2.06 2.06-.94-2.06-.94-.94-2.06-.94 2.06-2.06.94zm-11 1L8.5 8.5l.94-2.06 2.06-.94-2.06-.94L8.5 2.5l-.94 2.06-2.06.94zm10 10l.94 2.06.94-2.06 2.06-.94-2.06-.94-.94-2.06-.94 2.06-2.06.94z\"/><path d=\"M17.41 7.96l-1.37-1.37c-.4-.4-.92-.59-1.43-.59-.52 0-1.04.2-1.43.59L10.3 9.45l-7.72 7.72c-.78.78-.78 2.05 0 2.83L4 21.41c.39.39.9.59 1.41.59.51 0 1.02-.2 1.41-.59l7.78-7.78 2.81-2.81c.8-.78.8-2.07 0-2.86zM5.41 20L4 18.59l7.72-7.72 1.47 1.35L5.41 20z\"/>\n",
              "  </svg>\n",
              "      </button>\n",
              "      \n",
              "  <style>\n",
              "    .colab-df-container {\n",
              "      display:flex;\n",
              "      flex-wrap:wrap;\n",
              "      gap: 12px;\n",
              "    }\n",
              "\n",
              "    .colab-df-convert {\n",
              "      background-color: #E8F0FE;\n",
              "      border: none;\n",
              "      border-radius: 50%;\n",
              "      cursor: pointer;\n",
              "      display: none;\n",
              "      fill: #1967D2;\n",
              "      height: 32px;\n",
              "      padding: 0 0 0 0;\n",
              "      width: 32px;\n",
              "    }\n",
              "\n",
              "    .colab-df-convert:hover {\n",
              "      background-color: #E2EBFA;\n",
              "      box-shadow: 0px 1px 2px rgba(60, 64, 67, 0.3), 0px 1px 3px 1px rgba(60, 64, 67, 0.15);\n",
              "      fill: #174EA6;\n",
              "    }\n",
              "\n",
              "    [theme=dark] .colab-df-convert {\n",
              "      background-color: #3B4455;\n",
              "      fill: #D2E3FC;\n",
              "    }\n",
              "\n",
              "    [theme=dark] .colab-df-convert:hover {\n",
              "      background-color: #434B5C;\n",
              "      box-shadow: 0px 1px 3px 1px rgba(0, 0, 0, 0.15);\n",
              "      filter: drop-shadow(0px 1px 2px rgba(0, 0, 0, 0.3));\n",
              "      fill: #FFFFFF;\n",
              "    }\n",
              "  </style>\n",
              "\n",
              "      <script>\n",
              "        const buttonEl =\n",
              "          document.querySelector('#df-16906978-1223-4a87-9677-2ea91146522c button.colab-df-convert');\n",
              "        buttonEl.style.display =\n",
              "          google.colab.kernel.accessAllowed ? 'block' : 'none';\n",
              "\n",
              "        async function convertToInteractive(key) {\n",
              "          const element = document.querySelector('#df-16906978-1223-4a87-9677-2ea91146522c');\n",
              "          const dataTable =\n",
              "            await google.colab.kernel.invokeFunction('convertToInteractive',\n",
              "                                                     [key], {});\n",
              "          if (!dataTable) return;\n",
              "\n",
              "          const docLinkHtml = 'Like what you see? Visit the ' +\n",
              "            '<a target=\"_blank\" href=https://colab.research.google.com/notebooks/data_table.ipynb>data table notebook</a>'\n",
              "            + ' to learn more about interactive tables.';\n",
              "          element.innerHTML = '';\n",
              "          dataTable['output_type'] = 'display_data';\n",
              "          await google.colab.output.renderOutput(dataTable, element);\n",
              "          const docLink = document.createElement('div');\n",
              "          docLink.innerHTML = docLinkHtml;\n",
              "          element.appendChild(docLink);\n",
              "        }\n",
              "      </script>\n",
              "    </div>\n",
              "  </div>\n",
              "  "
            ],
            "text/plain": [
              "        SUR-Subtype_IIIa  SUR-Subtype_IIa  SUR-Subtype_IVc  SUR-Subtype_IVd  \\\n",
              "R_mean        172.720654       175.227195       173.140438       178.356957   \n",
              "G_mean        151.455125       136.285393       163.856455       169.056096   \n",
              "B_mean        126.931984       111.927927       141.440504       148.943391   \n",
              "R_std          53.775302        53.581219        50.563656        45.372960   \n",
              "G_std          51.816514        53.901729        48.674319        43.054749   \n",
              "B_std          53.358753        54.962429        46.679728        40.053266   \n",
              "R_var        2891.783107      2870.947003      2556.683331      2058.705516   \n",
              "G_var        2684.951152      2905.396344      2369.189287      1853.711453   \n",
              "B_var        2847.156502      3020.868615      2178.997030      1604.264101   \n",
              "R_kur           0.187462         1.285094         0.141521         1.119641   \n",
              "G_kur          -0.212137        -0.081210         0.125041         1.170828   \n",
              "B_kur          -0.448495        -0.116681         0.094611         1.156424   \n",
              "\n",
              "        SUR-Subtype_Ia  SUR-Subtype_Va  \n",
              "R_mean      143.907122      183.536920  \n",
              "G_mean      131.266841      162.612988  \n",
              "B_mean      115.273058      147.993792  \n",
              "R_std        51.964467       51.001305  \n",
              "G_std        48.931293       53.313065  \n",
              "B_std        47.132503       57.377540  \n",
              "R_var      2700.305792     2601.133062  \n",
              "G_var      2394.271469     2842.282939  \n",
              "B_var      2221.472884     3292.182126  \n",
              "R_kur        -0.300401        0.893997  \n",
              "G_kur        -0.139489       -0.190388  \n",
              "B_kur         0.160849       -0.725729  "
            ]
          },
          "execution_count": 223,
          "metadata": {},
          "output_type": "execute_result"
        }
      ],
      "source": [
        "df_1"
      ]
    },
    {
      "cell_type": "code",
      "execution_count": null,
      "metadata": {
        "id": "_L25FkTvZL-s"
      },
      "outputs": [],
      "source": [
        "df_1 = df_1.transpose()"
      ]
    },
    {
      "cell_type": "markdown",
      "metadata": {
        "id": "RHPCMjmbSRQb"
      },
      "source": [
        "###Boxplots"
      ]
    },
    {
      "cell_type": "code",
      "execution_count": null,
      "metadata": {
        "id": "aCaHtlxKSUKE"
      },
      "outputs": [],
      "source": [
        "VR_1 = []\n",
        "VG_1 = []\n",
        "VB_1 = []\n",
        "\n",
        "for i in range(len(PATH(path_sub_sec_type_list))):\n",
        "  VR_, VG_, VB_ = vectRGB_S (path_sub_sec_type,PATH(path_sub_sec_type_list)[i])\n",
        "  \n",
        "  VR_1.append(VR_)\n",
        "  VG_1.append(VG_)\n",
        "  VB_1.append(VB_)\n",
        "\n",
        "for i in range(len(PATH(path_sub_sec_type_list_1))):\n",
        "  VR_, VG_, VB_ = vectRGB_S (path_sub_sec_type_1,PATH(path_sub_sec_type_list_1)[i])\n",
        "  \n",
        "  VR_1.append(VR_)\n",
        "  VG_1.append(VG_)\n",
        "  VB_1.append(VB_) \n",
        "\n",
        "VR_1_T = []\n",
        "VG_1_T = []\n",
        "VB_1_T = []\n",
        "\n",
        "for i in range(len(VR_1)):\n",
        "  for j in range(len(VR_1[i])):\n",
        "    VR_1_T.append(VR_1[i][j])\n",
        "\n",
        "for i in range(len(VG_1)):\n",
        "  for j in range(len(VG_1[i])):\n",
        "    VG_1_T.append(VG_1[i][j])\n",
        "\n",
        "for i in range(len(VB_1)):\n",
        "  for j in range(len(VB_1[i])):\n",
        "    VB_1_T.append(VB_1[i][j])\n",
        "\n",
        "\n",
        "VR_1_T = np.asarray(VR_1_T)\n",
        "VG_1_T = np.asarray(VG_1_T)\n",
        "VB_1_T = np.asarray(VB_1_T)"
      ]
    },
    {
      "cell_type": "code",
      "execution_count": null,
      "metadata": {
        "id": "GettBmvzA5LA"
      },
      "outputs": [],
      "source": [
        "VR_1_T_SUR_IIIa = VR_1_T \n",
        "VG_1_T_SUR_IIIa = VG_1_T \n",
        "VB_1_T_SUR_IIIa = VB_1_T "
      ]
    },
    {
      "cell_type": "code",
      "execution_count": null,
      "metadata": {
        "id": "NtDZEPJ3A8zU"
      },
      "outputs": [],
      "source": [
        "VR_1_T_SUR_IIa = VR_1_T \n",
        "VG_1_T_SUR_IIa = VG_1_T \n",
        "VB_1_T_SUR_IIa = VR_1_T "
      ]
    },
    {
      "cell_type": "code",
      "execution_count": null,
      "metadata": {
        "colab": {
          "background_save": true
        },
        "id": "cZ0s6Md7A-da"
      },
      "outputs": [],
      "source": [
        "VR_1_T_SUR_IVc = VR_1_T \n",
        "VG_1_T_SUR_IVc = VG_1_T\n",
        "VB_1_T_SUR_IVc = VB_1_T"
      ]
    },
    {
      "cell_type": "code",
      "execution_count": null,
      "metadata": {
        "id": "Uw2H-ei9A-X6"
      },
      "outputs": [],
      "source": [
        "VR_1_T_SUR_IVd = VR_1_T\n",
        "VG_1_T_SUR_IVd = VG_1_T\n",
        "VB_1_T_SUR_IVd = VB_1_T"
      ]
    },
    {
      "cell_type": "code",
      "execution_count": null,
      "metadata": {
        "id": "udeGoxe9BBCR"
      },
      "outputs": [],
      "source": [
        "VR_1_T_SUR_Ia = VR_1_T\n",
        "VG_1_T_SUR_Ia = VG_1_T\n",
        "VB_1_T_SUR_Ia = VB_1_T"
      ]
    },
    {
      "cell_type": "code",
      "execution_count": null,
      "metadata": {
        "id": "X-3oDcJABCNW"
      },
      "outputs": [],
      "source": [
        "VR_1_T_SUR_Va = VR_1_T\n",
        "VG_1_T_SUR_Va = VG_1_T\n",
        "VB_1_T_SUR_Va = VB_1_T"
      ]
    },
    {
      "cell_type": "code",
      "execution_count": null,
      "metadata": {
        "id": "EHP70pChBDVA"
      },
      "outputs": [],
      "source": [
        "VR_1_T_SEC_IIIa = VR_1_T \n",
        "VG_1_T_SEC_IIIa = VG_1_T \n",
        "VB_1_T_SEC_IIIa = VB_1_T  "
      ]
    },
    {
      "cell_type": "code",
      "execution_count": null,
      "metadata": {
        "id": "aCqaAsQwBEmf"
      },
      "outputs": [],
      "source": [
        "VR_1_T_SEC_IIa = VR_1_T \n",
        "VG_1_T_SEC_IIa = VG_1_T \n",
        "VB_1_T_SEC_IIa = VR_1_T"
      ]
    },
    {
      "cell_type": "code",
      "execution_count": null,
      "metadata": {
        "id": "sPUIZiZkBF4m"
      },
      "outputs": [],
      "source": [
        "VR_1_T_SEC_IVc = VR_1_T \n",
        "VG_1_T_SEC_IVc = VG_1_T\n",
        "VB_1_T_SEC_IVc = VB_1_T"
      ]
    },
    {
      "cell_type": "code",
      "execution_count": null,
      "metadata": {
        "id": "5kM0Kb9EBHJy"
      },
      "outputs": [],
      "source": [
        "VR_1_T_SEC_IVd = VR_1_T\n",
        "VG_1_T_SEC_IVd = VG_1_T\n",
        "VB_1_T_SEC_IVd = VB_1_T"
      ]
    },
    {
      "cell_type": "code",
      "execution_count": null,
      "metadata": {
        "id": "d4ePoEBxBIe3"
      },
      "outputs": [],
      "source": [
        "VR_1_T_SEC_Ia = VR_1_T\n",
        "VG_1_T_SEC_Ia = VG_1_T\n",
        "VB_1_T_SEC_Ia = VB_1_T"
      ]
    },
    {
      "cell_type": "code",
      "execution_count": null,
      "metadata": {
        "id": "wqhZmzpcBKiU"
      },
      "outputs": [],
      "source": [
        "VR_1_T_SEC_Va = VR_1_T\n",
        "VG_1_T_SEC_Va = VG_1_T\n",
        "VB_1_T_SEC_Va = VB_1_T"
      ]
    },
    {
      "cell_type": "code",
      "execution_count": null,
      "metadata": {
        "id": "sK7dJKIO_GSR",
        "colab": {
          "base_uri": "https://localhost:8080/",
          "height": 1000
        },
        "outputId": "20c4ac7c-0e67-4981-cdaf-123ea7b8f872"
      },
      "outputs": [
        {
          "output_type": "execute_result",
          "data": {
            "text/plain": [
              "{'whiskers': [<matplotlib.lines.Line2D at 0x7f34f46c9a60>,\n",
              "  <matplotlib.lines.Line2D at 0x7f34f46c9dc0>,\n",
              "  <matplotlib.lines.Line2D at 0x7f34f46e6280>,\n",
              "  <matplotlib.lines.Line2D at 0x7f34f46e65e0>,\n",
              "  <matplotlib.lines.Line2D at 0x7f34f466fa60>,\n",
              "  <matplotlib.lines.Line2D at 0x7f34f466fdc0>,\n",
              "  <matplotlib.lines.Line2D at 0x7f34f4686280>,\n",
              "  <matplotlib.lines.Line2D at 0x7f34f46865e0>,\n",
              "  <matplotlib.lines.Line2D at 0x7f34f4691a60>,\n",
              "  <matplotlib.lines.Line2D at 0x7f34f4691dc0>,\n",
              "  <matplotlib.lines.Line2D at 0x7f34f46a7280>,\n",
              "  <matplotlib.lines.Line2D at 0x7f34f46a75e0>],\n",
              " 'caps': [<matplotlib.lines.Line2D at 0x7f34f46d6160>,\n",
              "  <matplotlib.lines.Line2D at 0x7f34f46d64c0>,\n",
              "  <matplotlib.lines.Line2D at 0x7f34f46e6940>,\n",
              "  <matplotlib.lines.Line2D at 0x7f34f46e6ca0>,\n",
              "  <matplotlib.lines.Line2D at 0x7f34f467b160>,\n",
              "  <matplotlib.lines.Line2D at 0x7f34f467b4c0>,\n",
              "  <matplotlib.lines.Line2D at 0x7f34f4686940>,\n",
              "  <matplotlib.lines.Line2D at 0x7f34f4686ca0>,\n",
              "  <matplotlib.lines.Line2D at 0x7f34f469c160>,\n",
              "  <matplotlib.lines.Line2D at 0x7f34f469c4c0>,\n",
              "  <matplotlib.lines.Line2D at 0x7f34f46a7940>,\n",
              "  <matplotlib.lines.Line2D at 0x7f34f46a7ca0>],\n",
              " 'boxes': [<matplotlib.lines.Line2D at 0x7f34f46c9700>,\n",
              "  <matplotlib.lines.Line2D at 0x7f34f46d6ee0>,\n",
              "  <matplotlib.lines.Line2D at 0x7f34f466f700>,\n",
              "  <matplotlib.lines.Line2D at 0x7f34f467bee0>,\n",
              "  <matplotlib.lines.Line2D at 0x7f34f4691700>,\n",
              "  <matplotlib.lines.Line2D at 0x7f34f469cee0>],\n",
              " 'medians': [<matplotlib.lines.Line2D at 0x7f34f46d6820>,\n",
              "  <matplotlib.lines.Line2D at 0x7f34f466f040>,\n",
              "  <matplotlib.lines.Line2D at 0x7f34f467b820>,\n",
              "  <matplotlib.lines.Line2D at 0x7f34f4691040>,\n",
              "  <matplotlib.lines.Line2D at 0x7f34f469c820>,\n",
              "  <matplotlib.lines.Line2D at 0x7f34f4634040>],\n",
              " 'fliers': [<matplotlib.lines.Line2D at 0x7f34f46d6b20>,\n",
              "  <matplotlib.lines.Line2D at 0x7f34f466f340>,\n",
              "  <matplotlib.lines.Line2D at 0x7f34f467bb20>,\n",
              "  <matplotlib.lines.Line2D at 0x7f34f4691340>,\n",
              "  <matplotlib.lines.Line2D at 0x7f34f469cb20>,\n",
              "  <matplotlib.lines.Line2D at 0x7f34f4634340>],\n",
              " 'means': []}"
            ]
          },
          "metadata": {},
          "execution_count": 42
        },
        {
          "output_type": "display_data",
          "data": {
            "text/plain": [
              "<Figure size 432x288 with 1 Axes>"
            ],
            "image/png": "[encoded data removed]"
          },
          "metadata": {
            "needs_background": "light"
          }
        }
      ],
      "source": [
        "#plt.boxplot([VR_1_T_SUR_IIIa,VR_1_T_SUR_IIa,VR_1_T_SUR_IVc,VR_1_T_SUR_IVd,VR_1_T_SUR_Ia,VR_1_T_SUR_Va])\n",
        "data_sur_r =  [VR_1_T_SUR_IIIa,VR_1_T_SUR_IIa,VR_1_T_SUR_IVc,VR_1_T_SUR_IVd,VR_1_T_SUR_Ia,VR_1_T_SUR_Va]\n",
        "fig1, ax1 = plt.subplots()\n",
        "ax1.set_title('SUR_R')\n",
        "ax1.boxplot(data_sur_r)"
      ]
    },
    {
      "cell_type": "code",
      "source": [
        "#plt.boxplot([VG_1_T_SUR_IIIa,VG_1_T_SUR_IIa,VG_1_T_SUR_IVc,VG_1_T_SUR_IVd,VG_1_T_SUR_Ia,VG_1_T_SUR_Va]) \n",
        "data_sur_g = [VG_1_T_SUR_IIIa,VG_1_T_SUR_IIa,VG_1_T_SUR_IVc,VG_1_T_SUR_IVd,VG_1_T_SUR_Ia,VG_1_T_SUR_Va]\n",
        "fig2, ax2 = plt.subplots()\n",
        "ax2.set_title('SUR_G')\n",
        "ax2.boxplot(data_sur_g)"
      ],
      "metadata": {
        "colab": {
          "base_uri": "https://localhost:8080/",
          "height": 1000
        },
        "id": "koJgLHBdKxyE",
        "outputId": "d3ef0ebe-72df-44bd-d6ef-d0f684d63fd1"
      },
      "execution_count": null,
      "outputs": [
        {
          "output_type": "execute_result",
          "data": {
            "text/plain": [
              "{'whiskers': [<matplotlib.lines.Line2D at 0x7f34f4610f40>,\n",
              "  <matplotlib.lines.Line2D at 0x7f34f46262e0>,\n",
              "  <matplotlib.lines.Line2D at 0x7f34f45af700>,\n",
              "  <matplotlib.lines.Line2D at 0x7f34f45afa30>,\n",
              "  <matplotlib.lines.Line2D at 0x7f34f45bbd90>,\n",
              "  <matplotlib.lines.Line2D at 0x7f34f45c8100>,\n",
              "  <matplotlib.lines.Line2D at 0x7f34f4624490>,\n",
              "  <matplotlib.lines.Line2D at 0x7f34f46247c0>,\n",
              "  <matplotlib.lines.Line2D at 0x7f34f45ddb20>,\n",
              "  <matplotlib.lines.Line2D at 0x7f34f45dde50>,\n",
              "  <matplotlib.lines.Line2D at 0x7f34f45741f0>,\n",
              "  <matplotlib.lines.Line2D at 0x7f34f4574550>],\n",
              " 'caps': [<matplotlib.lines.Line2D at 0x7f34f4626640>,\n",
              "  <matplotlib.lines.Line2D at 0x7f34f46269a0>,\n",
              "  <matplotlib.lines.Line2D at 0x7f34f45afd60>,\n",
              "  <matplotlib.lines.Line2D at 0x7f34f45bb0d0>,\n",
              "  <matplotlib.lines.Line2D at 0x7f34f45c8430>,\n",
              "  <matplotlib.lines.Line2D at 0x7f34f45c8760>,\n",
              "  <matplotlib.lines.Line2D at 0x7f34f4624af0>,\n",
              "  <matplotlib.lines.Line2D at 0x7f34f4624e20>,\n",
              "  <matplotlib.lines.Line2D at 0x7f34f456a1c0>,\n",
              "  <matplotlib.lines.Line2D at 0x7f34f456a4f0>,\n",
              "  <matplotlib.lines.Line2D at 0x7f34f4574880>,\n",
              "  <matplotlib.lines.Line2D at 0x7f34f4574bb0>],\n",
              " 'boxes': [<matplotlib.lines.Line2D at 0x7f34f4610be0>,\n",
              "  <matplotlib.lines.Line2D at 0x7f34f45af3d0>,\n",
              "  <matplotlib.lines.Line2D at 0x7f34f45bba60>,\n",
              "  <matplotlib.lines.Line2D at 0x7f34f4624160>,\n",
              "  <matplotlib.lines.Line2D at 0x7f34f45dd7f0>,\n",
              "  <matplotlib.lines.Line2D at 0x7f34f456ae80>],\n",
              " 'medians': [<matplotlib.lines.Line2D at 0x7f34f4626d00>,\n",
              "  <matplotlib.lines.Line2D at 0x7f34f45bb400>,\n",
              "  <matplotlib.lines.Line2D at 0x7f34f45c8a90>,\n",
              "  <matplotlib.lines.Line2D at 0x7f34f45dd190>,\n",
              "  <matplotlib.lines.Line2D at 0x7f34f456a820>,\n",
              "  <matplotlib.lines.Line2D at 0x7f34f4574ee0>],\n",
              " 'fliers': [<matplotlib.lines.Line2D at 0x7f34f45af040>,\n",
              "  <matplotlib.lines.Line2D at 0x7f34f45bb6d0>,\n",
              "  <matplotlib.lines.Line2D at 0x7f34f45c8d60>,\n",
              "  <matplotlib.lines.Line2D at 0x7f34f45dd460>,\n",
              "  <matplotlib.lines.Line2D at 0x7f34f456aaf0>,\n",
              "  <matplotlib.lines.Line2D at 0x7f34f45811f0>],\n",
              " 'means': []}"
            ]
          },
          "metadata": {},
          "execution_count": 43
        },
        {
          "output_type": "display_data",
          "data": {
            "text/plain": [
              "<Figure size 432x288 with 1 Axes>"
            ],
            "image/png": "[encoded data removed]"
          },
          "metadata": {
            "needs_background": "light"
          }
        }
      ]
    },
    {
      "cell_type": "code",
      "source": [
        "#plt.boxplot([VB_1_T_SUR_IIIa,VB_1_T_SUR_IIa,VB_1_T_SUR_IVc,VB_1_T_SUR_IVd,VB_1_T_SUR_Ia,VB_1_T_SUR_Va])\n",
        "data_sur_b = [VB_1_T_SUR_IIIa,VB_1_T_SUR_IIa,VB_1_T_SUR_IVc,VB_1_T_SUR_IVd,VB_1_T_SUR_Ia,VB_1_T_SUR_Va]\n",
        "fig3, ax3 = plt.subplots()\n",
        "ax3.set_title('SUR_B')\n",
        "ax3.boxplot(data_sur_b)"
      ],
      "metadata": {
        "colab": {
          "base_uri": "https://localhost:8080/",
          "height": 1000
        },
        "id": "IDiEaHadKzsr",
        "outputId": "62674ad0-43b9-4639-fcc5-29381c46fbd8"
      },
      "execution_count": null,
      "outputs": [
        {
          "output_type": "execute_result",
          "data": {
            "text/plain": [
              "{'whiskers': [<matplotlib.lines.Line2D at 0x7f34f4482df0>,\n",
              "  <matplotlib.lines.Line2D at 0x7f34f4489190>,\n",
              "  <matplotlib.lines.Line2D at 0x7f34f44a25b0>,\n",
              "  <matplotlib.lines.Line2D at 0x7f34f44a28e0>,\n",
              "  <matplotlib.lines.Line2D at 0x7f34f442cc40>,\n",
              "  <matplotlib.lines.Line2D at 0x7f34f442cf70>,\n",
              "  <matplotlib.lines.Line2D at 0x7f34f4445310>,\n",
              "  <matplotlib.lines.Line2D at 0x7f34f4445640>,\n",
              "  <matplotlib.lines.Line2D at 0x7f34f44519d0>,\n",
              "  <matplotlib.lines.Line2D at 0x7f34f4451d00>,\n",
              "  <matplotlib.lines.Line2D at 0x7f34f44670a0>,\n",
              "  <matplotlib.lines.Line2D at 0x7f34f44673d0>],\n",
              " 'caps': [<matplotlib.lines.Line2D at 0x7f34f44894f0>,\n",
              "  <matplotlib.lines.Line2D at 0x7f34f4489850>,\n",
              "  <matplotlib.lines.Line2D at 0x7f34f44a2c10>,\n",
              "  <matplotlib.lines.Line2D at 0x7f34f44a2f40>,\n",
              "  <matplotlib.lines.Line2D at 0x7f34f44392e0>,\n",
              "  <matplotlib.lines.Line2D at 0x7f34f4439610>,\n",
              "  <matplotlib.lines.Line2D at 0x7f34f4445970>,\n",
              "  <matplotlib.lines.Line2D at 0x7f34f4445ca0>,\n",
              "  <matplotlib.lines.Line2D at 0x7f34f445a070>,\n",
              "  <matplotlib.lines.Line2D at 0x7f34f445a3a0>,\n",
              "  <matplotlib.lines.Line2D at 0x7f34f4467700>,\n",
              "  <matplotlib.lines.Line2D at 0x7f34f4467a30>],\n",
              " 'boxes': [<matplotlib.lines.Line2D at 0x7f34f4482a90>,\n",
              "  <matplotlib.lines.Line2D at 0x7f34f44a2280>,\n",
              "  <matplotlib.lines.Line2D at 0x7f34f442c910>,\n",
              "  <matplotlib.lines.Line2D at 0x7f34f4439fa0>,\n",
              "  <matplotlib.lines.Line2D at 0x7f34f44516a0>,\n",
              "  <matplotlib.lines.Line2D at 0x7f34f445ad30>],\n",
              " 'medians': [<matplotlib.lines.Line2D at 0x7f34f4489bb0>,\n",
              "  <matplotlib.lines.Line2D at 0x7f34f442c2b0>,\n",
              "  <matplotlib.lines.Line2D at 0x7f34f4439940>,\n",
              "  <matplotlib.lines.Line2D at 0x7f34f4445fd0>,\n",
              "  <matplotlib.lines.Line2D at 0x7f34f445a6d0>,\n",
              "  <matplotlib.lines.Line2D at 0x7f34f4467d60>],\n",
              " 'fliers': [<matplotlib.lines.Line2D at 0x7f34f4489eb0>,\n",
              "  <matplotlib.lines.Line2D at 0x7f34f442c580>,\n",
              "  <matplotlib.lines.Line2D at 0x7f34f4439c10>,\n",
              "  <matplotlib.lines.Line2D at 0x7f34f44512e0>,\n",
              "  <matplotlib.lines.Line2D at 0x7f34f445a9a0>,\n",
              "  <matplotlib.lines.Line2D at 0x7f34f43f2070>],\n",
              " 'means': []}"
            ]
          },
          "metadata": {},
          "execution_count": 44
        },
        {
          "output_type": "display_data",
          "data": {
            "text/plain": [
              "<Figure size 432x288 with 1 Axes>"
            ],
            "image/png": "[encoded data removed]"
          },
          "metadata": {
            "needs_background": "light"
          }
        }
      ]
    },
    {
      "cell_type": "code",
      "execution_count": null,
      "metadata": {
        "id": "k694unl8DbR0",
        "colab": {
          "base_uri": "https://localhost:8080/",
          "height": 1000
        },
        "outputId": "9e8668c4-8e08-4b0c-b7eb-e885c5543786"
      },
      "outputs": [
        {
          "output_type": "execute_result",
          "data": {
            "text/plain": [
              "{'whiskers': [<matplotlib.lines.Line2D at 0x7f7858933880>,\n",
              "  <matplotlib.lines.Line2D at 0x7f7858933be0>,\n",
              "  <matplotlib.lines.Line2D at 0x7f78589640a0>,\n",
              "  <matplotlib.lines.Line2D at 0x7f7858964400>,\n",
              "  <matplotlib.lines.Line2D at 0x7f78588ef880>,\n",
              "  <matplotlib.lines.Line2D at 0x7f78588efbe0>,\n",
              "  <matplotlib.lines.Line2D at 0x7f78589630d0>,\n",
              "  <matplotlib.lines.Line2D at 0x7f7858963430>,\n",
              "  <matplotlib.lines.Line2D at 0x7f785890b8b0>,\n",
              "  <matplotlib.lines.Line2D at 0x7f785890bc10>,\n",
              "  <matplotlib.lines.Line2D at 0x7f78589200d0>,\n",
              "  <matplotlib.lines.Line2D at 0x7f7858920430>],\n",
              " 'caps': [<matplotlib.lines.Line2D at 0x7f7858933f40>,\n",
              "  <matplotlib.lines.Line2D at 0x7f78589525b0>,\n",
              "  <matplotlib.lines.Line2D at 0x7f7858964760>,\n",
              "  <matplotlib.lines.Line2D at 0x7f7858964ac0>,\n",
              "  <matplotlib.lines.Line2D at 0x7f78588eff40>,\n",
              "  <matplotlib.lines.Line2D at 0x7f78588fa2e0>,\n",
              "  <matplotlib.lines.Line2D at 0x7f7858963790>,\n",
              "  <matplotlib.lines.Line2D at 0x7f7858963af0>,\n",
              "  <matplotlib.lines.Line2D at 0x7f785890bf70>,\n",
              "  <matplotlib.lines.Line2D at 0x7f7858916310>,\n",
              "  <matplotlib.lines.Line2D at 0x7f7858920790>,\n",
              "  <matplotlib.lines.Line2D at 0x7f7858920af0>],\n",
              " 'boxes': [<matplotlib.lines.Line2D at 0x7f7858933580>,\n",
              "  <matplotlib.lines.Line2D at 0x7f7858933df0>,\n",
              "  <matplotlib.lines.Line2D at 0x7f78588ef520>,\n",
              "  <matplotlib.lines.Line2D at 0x7f78588fad30>,\n",
              "  <matplotlib.lines.Line2D at 0x7f785890b550>,\n",
              "  <matplotlib.lines.Line2D at 0x7f7858916d30>],\n",
              " 'medians': [<matplotlib.lines.Line2D at 0x7f7858952910>,\n",
              "  <matplotlib.lines.Line2D at 0x7f7858964e20>,\n",
              "  <matplotlib.lines.Line2D at 0x7f78588fa640>,\n",
              "  <matplotlib.lines.Line2D at 0x7f7858963e50>,\n",
              "  <matplotlib.lines.Line2D at 0x7f7858916670>,\n",
              "  <matplotlib.lines.Line2D at 0x7f7858920e50>],\n",
              " 'fliers': [<matplotlib.lines.Line2D at 0x7f7858952d90>,\n",
              "  <matplotlib.lines.Line2D at 0x7f78588ef160>,\n",
              "  <matplotlib.lines.Line2D at 0x7f78588fa940>,\n",
              "  <matplotlib.lines.Line2D at 0x7f785890b190>,\n",
              "  <matplotlib.lines.Line2D at 0x7f7858916970>,\n",
              "  <matplotlib.lines.Line2D at 0x7f78588aa190>],\n",
              " 'means': []}"
            ]
          },
          "metadata": {},
          "execution_count": 35
        },
        {
          "output_type": "display_data",
          "data": {
            "text/plain": [
              "<Figure size 432x288 with 1 Axes>"
            ],
            "image/png": "[encoded data removed]"
          },
          "metadata": {
            "needs_background": "light"
          }
        }
      ],
      "source": [
        "#plt.boxplot([VB_1_T_SUR_IIIa,VB_1_T_SUR_IIa,VB_1_T_SUR_IVc,VB_1_T_SUR_IVd,VB_1_T_SUR_Ia,VB_1_T_SUR_Va])\n",
        "data_sec_r = [VR_1_T_SEC_IIIa,VR_1_T_SEC_IIa,VR_1_T_SEC_IVc,VR_1_T_SEC_IVd,VR_1_T_SEC_Ia,VR_1_T_SEC_Va]\n",
        "fig4, ax4 = plt.subplots()\n",
        "ax4.set_title('SEC_R')\n",
        "ax4.boxplot(data_sec_r)"
      ]
    },
    {
      "cell_type": "code",
      "source": [
        "#plt.boxplot([VB_1_T_SUR_IIIa,VB_1_T_SUR_IIa,VB_1_T_SUR_IVc,VB_1_T_SUR_IVd,VB_1_T_SUR_Ia,VB_1_T_SUR_Va])\n",
        "data_sec_g = [VG_1_T_SEC_IIIa,VG_1_T_SEC_IIa,VG_1_T_SEC_IVc,VG_1_T_SEC_IVd,VG_1_T_SEC_Ia,VG_1_T_SEC_Va]\n",
        "fig5, ax5 = plt.subplots()\n",
        "ax5.set_title('SEC_G')\n",
        "ax5.boxplot(data_sec_g)"
      ],
      "metadata": {
        "colab": {
          "base_uri": "https://localhost:8080/",
          "height": 1000
        },
        "id": "cPXyp08CtEJ6",
        "outputId": "1c9de78e-5ed6-496e-e677-55f181080a73"
      },
      "execution_count": null,
      "outputs": [
        {
          "output_type": "execute_result",
          "data": {
            "text/plain": [
              "{'whiskers': [<matplotlib.lines.Line2D at 0x7f78583f8ac0>,\n",
              "  <matplotlib.lines.Line2D at 0x7f78583f8e20>,\n",
              "  <matplotlib.lines.Line2D at 0x7f78584172e0>,\n",
              "  <matplotlib.lines.Line2D at 0x7f7858417640>,\n",
              "  <matplotlib.lines.Line2D at 0x7f78583a1ac0>,\n",
              "  <matplotlib.lines.Line2D at 0x7f78583a1e20>,\n",
              "  <matplotlib.lines.Line2D at 0x7f78583ba2e0>,\n",
              "  <matplotlib.lines.Line2D at 0x7f78583ba640>,\n",
              "  <matplotlib.lines.Line2D at 0x7f78583c7ac0>,\n",
              "  <matplotlib.lines.Line2D at 0x7f78583c7e20>,\n",
              "  <matplotlib.lines.Line2D at 0x7f785835d2e0>,\n",
              "  <matplotlib.lines.Line2D at 0x7f785835d640>],\n",
              " 'caps': [<matplotlib.lines.Line2D at 0x7f785840d1c0>,\n",
              "  <matplotlib.lines.Line2D at 0x7f785840d520>,\n",
              "  <matplotlib.lines.Line2D at 0x7f78584179a0>,\n",
              "  <matplotlib.lines.Line2D at 0x7f7858417d00>,\n",
              "  <matplotlib.lines.Line2D at 0x7f78583af1c0>,\n",
              "  <matplotlib.lines.Line2D at 0x7f78583af520>,\n",
              "  <matplotlib.lines.Line2D at 0x7f78583ba9a0>,\n",
              "  <matplotlib.lines.Line2D at 0x7f78583bad00>,\n",
              "  <matplotlib.lines.Line2D at 0x7f78583d01c0>,\n",
              "  <matplotlib.lines.Line2D at 0x7f78583d0520>,\n",
              "  <matplotlib.lines.Line2D at 0x7f785835d9a0>,\n",
              "  <matplotlib.lines.Line2D at 0x7f785835dd00>],\n",
              " 'boxes': [<matplotlib.lines.Line2D at 0x7f78583f8760>,\n",
              "  <matplotlib.lines.Line2D at 0x7f785840df40>,\n",
              "  <matplotlib.lines.Line2D at 0x7f78583a1760>,\n",
              "  <matplotlib.lines.Line2D at 0x7f78583aff40>,\n",
              "  <matplotlib.lines.Line2D at 0x7f78583c7760>,\n",
              "  <matplotlib.lines.Line2D at 0x7f78583d0f40>],\n",
              " 'medians': [<matplotlib.lines.Line2D at 0x7f785840d880>,\n",
              "  <matplotlib.lines.Line2D at 0x7f78583a10a0>,\n",
              "  <matplotlib.lines.Line2D at 0x7f78583af880>,\n",
              "  <matplotlib.lines.Line2D at 0x7f78583c70a0>,\n",
              "  <matplotlib.lines.Line2D at 0x7f78583d0880>,\n",
              "  <matplotlib.lines.Line2D at 0x7f78583670a0>],\n",
              " 'fliers': [<matplotlib.lines.Line2D at 0x7f785840db80>,\n",
              "  <matplotlib.lines.Line2D at 0x7f78583a13a0>,\n",
              "  <matplotlib.lines.Line2D at 0x7f78583afb80>,\n",
              "  <matplotlib.lines.Line2D at 0x7f78583c73a0>,\n",
              "  <matplotlib.lines.Line2D at 0x7f78583d0b80>,\n",
              "  <matplotlib.lines.Line2D at 0x7f78583673a0>],\n",
              " 'means': []}"
            ]
          },
          "metadata": {},
          "execution_count": 36
        },
        {
          "output_type": "display_data",
          "data": {
            "text/plain": [
              "<Figure size 432x288 with 1 Axes>"
            ],
            "image/png": "[encoded data removed]"
          },
          "metadata": {
            "needs_background": "light"
          }
        }
      ]
    },
    {
      "cell_type": "code",
      "source": [
        "#plt.boxplot([VB_1_T_SUR_IIIa,VB_1_T_SUR_IIa,VB_1_T_SUR_IVc,VB_1_T_SUR_IVd,VB_1_T_SUR_Ia,VB_1_T_SUR_Va])\n",
        "data_sec_b = [VB_1_T_SEC_IIIa,VB_1_T_SEC_IIa,VB_1_T_SEC_IVc,VB_1_T_SEC_IVd,VB_1_T_SEC_Ia,VB_1_T_SEC_Va]\n",
        "fig6, ax6 = plt.subplots()\n",
        "ax6.set_title('SEC_B')\n",
        "ax6.boxplot(data_sec_b)"
      ],
      "metadata": {
        "colab": {
          "base_uri": "https://localhost:8080/",
          "height": 1000
        },
        "id": "fp5VtQ7vtRH9",
        "outputId": "2e3937d8-487c-4f44-ada8-961f8bdf5885"
      },
      "execution_count": null,
      "outputs": [
        {
          "output_type": "execute_result",
          "data": {
            "text/plain": [
              "{'whiskers': [<matplotlib.lines.Line2D at 0x7f7858880a60>,\n",
              "  <matplotlib.lines.Line2D at 0x7f785889c250>,\n",
              "  <matplotlib.lines.Line2D at 0x7f7858370ee0>,\n",
              "  <matplotlib.lines.Line2D at 0x7f7858379070>,\n",
              "  <matplotlib.lines.Line2D at 0x7f7858895850>,\n",
              "  <matplotlib.lines.Line2D at 0x7f7858895100>,\n",
              "  <matplotlib.lines.Line2D at 0x7f785838fdf0>,\n",
              "  <matplotlib.lines.Line2D at 0x7f7858322880>,\n",
              "  <matplotlib.lines.Line2D at 0x7f79d393cc70>,\n",
              "  <matplotlib.lines.Line2D at 0x7f78583339d0>,\n",
              "  <matplotlib.lines.Line2D at 0x7f785834d370>,\n",
              "  <matplotlib.lines.Line2D at 0x7f785834d6d0>],\n",
              " 'caps': [<matplotlib.lines.Line2D at 0x7f785889c1c0>,\n",
              "  <matplotlib.lines.Line2D at 0x7f785889cd00>,\n",
              "  <matplotlib.lines.Line2D at 0x7f7858386610>,\n",
              "  <matplotlib.lines.Line2D at 0x7f7858386c70>,\n",
              "  <matplotlib.lines.Line2D at 0x7f7858397100>,\n",
              "  <matplotlib.lines.Line2D at 0x7f78583979a0>,\n",
              "  <matplotlib.lines.Line2D at 0x7f7858322c70>,\n",
              "  <matplotlib.lines.Line2D at 0x7f7858396700>,\n",
              "  <matplotlib.lines.Line2D at 0x7f7858333400>,\n",
              "  <matplotlib.lines.Line2D at 0x7f79e5c7f100>,\n",
              "  <matplotlib.lines.Line2D at 0x7f785834da30>,\n",
              "  <matplotlib.lines.Line2D at 0x7f785834dd90>],\n",
              " 'boxes': [<matplotlib.lines.Line2D at 0x7f7858880970>,\n",
              "  <matplotlib.lines.Line2D at 0x7f79d3a1aca0>,\n",
              "  <matplotlib.lines.Line2D at 0x7f7858367b20>,\n",
              "  <matplotlib.lines.Line2D at 0x7f785838f4f0>,\n",
              "  <matplotlib.lines.Line2D at 0x7f785888c340>,\n",
              "  <matplotlib.lines.Line2D at 0x7f785832afd0>],\n",
              " 'medians': [<matplotlib.lines.Line2D at 0x7f785840dd00>,\n",
              "  <matplotlib.lines.Line2D at 0x7f78583867c0>,\n",
              "  <matplotlib.lines.Line2D at 0x7f785888f9a0>,\n",
              "  <matplotlib.lines.Line2D at 0x7f7858396490>,\n",
              "  <matplotlib.lines.Line2D at 0x7f79e5c7fac0>,\n",
              "  <matplotlib.lines.Line2D at 0x7f785835a130>],\n",
              " 'fliers': [<matplotlib.lines.Line2D at 0x7f78583c7220>,\n",
              "  <matplotlib.lines.Line2D at 0x7f785837fd30>,\n",
              "  <matplotlib.lines.Line2D at 0x7f785888f820>,\n",
              "  <matplotlib.lines.Line2D at 0x7f7858396bb0>,\n",
              "  <matplotlib.lines.Line2D at 0x7f785832ac10>,\n",
              "  <matplotlib.lines.Line2D at 0x7f785835a430>],\n",
              " 'means': []}"
            ]
          },
          "metadata": {},
          "execution_count": 37
        },
        {
          "output_type": "display_data",
          "data": {
            "text/plain": [
              "<Figure size 432x288 with 1 Axes>"
            ],
            "image/png": "[encoded data removed]"
          },
          "metadata": {
            "needs_background": "light"
          }
        }
      ]
    },
    {
      "cell_type": "markdown",
      "metadata": {
        "id": "UYuZWuUUYCXO"
      },
      "source": [
        "### Guardado de los csv "
      ]
    },
    {
      "cell_type": "code",
      "execution_count": null,
      "metadata": {
        "id": "ku8yEe5nYBXN"
      },
      "outputs": [],
      "source": [
        "df_fin.to_csv('SEC_Subtype_IIIa.csv')"
      ]
    },
    {
      "cell_type": "code",
      "execution_count": null,
      "metadata": {
        "id": "7zK9zxea9-3i"
      },
      "outputs": [],
      "source": [
        "df_1.to_csv('SUR_patch_stats.csv')"
      ]
    },
    {
      "cell_type": "code",
      "source": [
        "!git init"
      ],
      "metadata": {
        "colab": {
          "base_uri": "https://localhost:8080/"
        },
        "id": "hkkzBgmI3UOc",
        "outputId": "4ac82f9b-81d1-4889-937b-bb103d478625"
      },
      "execution_count": 2,
      "outputs": [
        {
          "output_type": "stream",
          "name": "stdout",
          "text": [
            "Initialized empty Git repository in /content/.git/\n"
          ]
        }
      ]
    },
    {
      "cell_type": "code",
      "source": [
        "!git commit -m \"first commit\""
      ],
      "metadata": {
        "colab": {
          "base_uri": "https://localhost:8080/"
        },
        "id": "93xSO33G3nRJ",
        "outputId": "ebd78d76-39d2-42ce-d944-68d4f4858abc"
      },
      "execution_count": 5,
      "outputs": [
        {
          "output_type": "stream",
          "name": "stdout",
          "text": [
            "\n",
            "*** Please tell me who you are.\n",
            "\n",
            "Run\n",
            "\n",
            "  git config --global user.email \"you@example.com\"\n",
            "  git config --global user.name \"Your Name\"\n",
            "\n",
            "to set your account's default identity.\n",
            "Omit --global to set the identity only in this repository.\n",
            "\n",
            "fatal: unable to auto-detect email address (got 'root@2c3080a4f0be.(none)')\n"
          ]
        }
      ]
    },
    {
      "cell_type": "code",
      "source": [
        "!git config --global user.email \"saamurai9@gmail.com\"\n",
        "!git config --global user.name \"Alex0Alca0\""
      ],
      "metadata": {
        "id": "BXl7J0Uy37oE"
      },
      "execution_count": 6,
      "outputs": []
    },
    {
      "cell_type": "code",
      "source": [
        "!git commit -m \"first commit\""
      ],
      "metadata": {
        "colab": {
          "base_uri": "https://localhost:8080/"
        },
        "id": "pxyi5f2H4GCM",
        "outputId": "111744ec-bc46-46af-bd77-21b5ce399e61"
      },
      "execution_count": 7,
      "outputs": [
        {
          "output_type": "stream",
          "name": "stdout",
          "text": [
            "On branch master\n",
            "\n",
            "Initial commit\n",
            "\n",
            "Untracked files:\n",
            "\t\u001b[31m.config/\u001b[m\n",
            "\t\u001b[31mdrive/\u001b[m\n",
            "\t\u001b[31msample_data/\u001b[m\n",
            "\n",
            "nothing added to commit but untracked files present\n"
          ]
        }
      ]
    },
    {
      "cell_type": "code",
      "source": [
        "!git branch -M main"
      ],
      "metadata": {
        "colab": {
          "base_uri": "https://localhost:8080/"
        },
        "id": "FKqnwqBy4Lim",
        "outputId": "a562e1e0-b690-411f-abc1-7aa308745861"
      },
      "execution_count": 8,
      "outputs": [
        {
          "output_type": "stream",
          "name": "stdout",
          "text": [
            "error: refname refs/heads/master not found\n",
            "fatal: Branch rename failed\n"
          ]
        }
      ]
    },
    {
      "cell_type": "code",
      "source": [
        "!git remote add origin https://github.com/Alex0Alca0/Image_processing-.git"
      ],
      "metadata": {
        "id": "7WTNrbrw4Qdd"
      },
      "execution_count": 9,
      "outputs": []
    },
    {
      "cell_type": "code",
      "source": [
        "!git push -u origin main"
      ],
      "metadata": {
        "colab": {
          "base_uri": "https://localhost:8080/"
        },
        "id": "dOA2ue4i4VPM",
        "outputId": "333f1fa3-0959-4eef-e371-16b36304f56a"
      },
      "execution_count": 10,
      "outputs": [
        {
          "output_type": "stream",
          "name": "stdout",
          "text": [
            "error: src refspec main does not match any.\n",
            "error: failed to push some refs to 'https://github.com/Alex0Alca0/Image_processing-.git'\n"
          ]
        }
      ]
    }
  ],
  "metadata": {
    "colab": {
      "provenance": []
    },
    "kernelspec": {
      "display_name": "Python 3",
      "name": "python3"
    },
    "language_info": {
      "name": "python"
    },
    "accelerator": "GPU",
    "gpuClass": "standard"
  },
  "nbformat": 4,
  "nbformat_minor": 0
}