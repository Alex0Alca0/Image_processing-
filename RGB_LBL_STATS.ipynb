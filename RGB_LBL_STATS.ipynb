{
  "cells": [
    {
      "cell_type": "markdown",
      "metadata": {
        "id": "view-in-github",
        "colab_type": "text"
      },
      "source": [
        "<a href=\"https://colab.research.google.com/github/Alex0Alca0/Image_processing-/blob/main/RGB_LBL_STATS.ipynb\" target=\"_parent\"><img src=\"https://colab.research.google.com/assets/colab-badge.svg\" alt=\"Open In Colab\"/></a>"
      ]
    },
    {
      "cell_type": "markdown",
      "source": [
        "###Imports\n"
      ],
      "metadata": {
        "id": "J0b-ScMayXox"
      }
    },
    {
      "cell_type": "code",
      "execution_count": null,
      "metadata": {
        "id": "6fKiVk0uRDA5"
      },
      "outputs": [],
      "source": [
        "import os \n",
        "import numpy as np \n",
        "import pandas as pd \n",
        "import skimage\n",
        "import imageio\n",
        "import scipy\n",
        "import matplotlib.pyplot as plt\n",
        "from PIL import Image\n",
        "import statistics\n",
        "from scipy.stats import kurtosis\n",
        "import cv2\n",
        "import time\n",
        "import concurrent.futures\n",
        "import multiprocessing\n",
        "from multiprocessing import Pool\n",
        "import itertools\n",
        "import pickle"
      ]
    },
    {
      "cell_type": "markdown",
      "source": [
        "###FUNCIONES"
      ],
      "metadata": {
        "id": "6KtuxpZ3yQOl"
      }
    },
    {
      "cell_type": "code",
      "source": [
        "def boxplot_stats(X, whis=1.5, bootstrap=None, labels=None,\n",
        "                  autorange=False):\n",
        "    r\"\"\"\n",
        "    Return a list of dictionaries of statistics used to draw a series of box\n",
        "    and whisker plots using `~.Axes.bxp`.\n",
        "    Parameters\n",
        "    ----------\n",
        "    X : array-like\n",
        "        Data that will be represented in the boxplots. Should have 2 or\n",
        "        fewer dimensions.\n",
        "    whis : float or (float, float), default: 1.5\n",
        "        The position of the whiskers.\n",
        "        If a float, the lower whisker is at the lowest datum above\n",
        "        ``Q1 - whis*(Q3-Q1)``, and the upper whisker at the highest datum below\n",
        "        ``Q3 + whis*(Q3-Q1)``, where Q1 and Q3 are the first and third\n",
        "        quartiles.  The default value of ``whis = 1.5`` corresponds to Tukey's\n",
        "        original definition of boxplots.\n",
        "        If a pair of floats, they indicate the percentiles at which to draw the\n",
        "        whiskers (e.g., (5, 95)).  In particular, setting this to (0, 100)\n",
        "        results in whiskers covering the whole range of the data.\n",
        "        In the edge case where ``Q1 == Q3``, *whis* is automatically set to\n",
        "        (0, 100) (cover the whole range of the data) if *autorange* is True.\n",
        "        Beyond the whiskers, data are considered outliers and are plotted as\n",
        "        individual points.\n",
        "    bootstrap : int, optional\n",
        "        Number of times the confidence intervals around the median\n",
        "        should be bootstrapped (percentile method).\n",
        "    labels : array-like, optional\n",
        "        Labels for each dataset. Length must be compatible with\n",
        "        dimensions of *X*.\n",
        "    autorange : bool, optional (False)\n",
        "        When `True` and the data are distributed such that the 25th and 75th\n",
        "        percentiles are equal, ``whis`` is set to (0, 100) such that the\n",
        "        whisker ends are at the minimum and maximum of the data.\n",
        "    Returns\n",
        "    -------\n",
        "    list of dict\n",
        "        A list of dictionaries containing the results for each column\n",
        "        of data. Keys of each dictionary are the following:\n",
        "        ========   ===================================\n",
        "        Key        Value Description\n",
        "        ========   ===================================\n",
        "        label      tick label for the boxplot\n",
        "        mean       arithmetic mean value\n",
        "        med        50th percentile\n",
        "        q1         first quartile (25th percentile)\n",
        "        q3         third quartile (75th percentile)\n",
        "        iqr        interquartile range\n",
        "        cilo       lower notch around the median\n",
        "        cihi       upper notch around the median\n",
        "        whislo     end of the lower whisker\n",
        "        whishi     end of the upper whisker\n",
        "        fliers     outliers\n",
        "        ========   ===================================\n",
        "    Notes\n",
        "    -----\n",
        "    Non-bootstrapping approach to confidence interval uses Gaussian-based\n",
        "    asymptotic approximation:\n",
        "    .. math::\n",
        "        \\mathrm{med} \\pm 1.57 \\times \\frac{\\mathrm{iqr}}{\\sqrt{N}}\n",
        "    General approach from:\n",
        "    McGill, R., Tukey, J.W., and Larsen, W.A. (1978) \"Variations of\n",
        "    Boxplots\", The American Statistician, 32:12-16.\n",
        "    \"\"\"\n",
        "\n",
        "    def _bootstrap_median(data, N=5000):\n",
        "        # determine 95% confidence intervals of the median\n",
        "        M = len(data)\n",
        "        percentiles = [2.5, 97.5]\n",
        "\n",
        "        bs_index = np.random.randint(M, size=(N, M))\n",
        "        bsData = data[bs_index]\n",
        "        estimate = np.median(bsData, axis=1, overwrite_input=True)\n",
        "\n",
        "        CI = np.percentile(estimate, percentiles)\n",
        "        return CI\n",
        "\n",
        "    def _compute_conf_interval(data, med, iqr, bootstrap):\n",
        "        if bootstrap is not None:\n",
        "            # Do a bootstrap estimate of notch locations.\n",
        "            # get conf. intervals around median\n",
        "            CI = _bootstrap_median(data, N=bootstrap)\n",
        "            notch_min = CI[0]\n",
        "            notch_max = CI[1]\n",
        "        else:\n",
        "\n",
        "            N = len(data)\n",
        "            notch_min = med - 1.57 * iqr / np.sqrt(N)\n",
        "            notch_max = med + 1.57 * iqr / np.sqrt(N)\n",
        "\n",
        "        return notch_min, notch_max\n",
        "\n",
        "    # output is a list of dicts\n",
        "    bxpstats = []\n",
        "\n",
        "    # convert X to a list of lists\n",
        "    X = _reshape_2D(X, \"X\")\n",
        "\n",
        "    ncols = len(X)\n",
        "    if labels is None:\n",
        "        labels = itertools.repeat(None)\n",
        "    elif len(labels) != ncols:\n",
        "        raise ValueError(\"Dimensions of labels and X must be compatible\")\n",
        "\n",
        "    input_whis = whis\n",
        "    for ii, (x, label) in enumerate(zip(X, labels)):\n",
        "\n",
        "        # empty dict\n",
        "        stats = {}\n",
        "        if label is not None:\n",
        "            stats['label'] = label\n",
        "\n",
        "        # restore whis to the input values in case it got changed in the loop\n",
        "        whis = input_whis\n",
        "\n",
        "        # note tricksiness, append up here and then mutate below\n",
        "        bxpstats.append(stats)\n",
        "\n",
        "        # if empty, bail\n",
        "        if len(x) == 0:\n",
        "            stats['fliers'] = np.array([])\n",
        "            stats['mean'] = np.nan\n",
        "            stats['med'] = np.nan\n",
        "            stats['q1'] = np.nan\n",
        "            stats['q3'] = np.nan\n",
        "            stats['iqr'] = np.nan\n",
        "            stats['cilo'] = np.nan\n",
        "            stats['cihi'] = np.nan\n",
        "            stats['whislo'] = np.nan\n",
        "            stats['whishi'] = np.nan\n",
        "            continue\n",
        "\n",
        "        # up-convert to an array, just to be safe\n",
        "        x = np.asarray(x)\n",
        "\n",
        "        # arithmetic mean\n",
        "        stats['mean'] = np.mean(x)\n",
        "\n",
        "        # medians and quartiles\n",
        "        q1, med, q3 = np.percentile(x, [25, 50, 75])\n",
        "\n",
        "        # interquartile range\n",
        "        stats['iqr'] = q3 - q1\n",
        "        if stats['iqr'] == 0 and autorange:\n",
        "            whis = (0, 100)\n",
        "\n",
        "        # conf. interval around median\n",
        "        stats['cilo'], stats['cihi'] = _compute_conf_interval(\n",
        "            x, med, stats['iqr'], bootstrap\n",
        "        )\n",
        "\n",
        "        # lowest/highest non-outliers\n",
        "        if np.iterable(whis) and not isinstance(whis, str):\n",
        "            loval, hival = np.percentile(x, whis)\n",
        "        elif np.isreal(whis):\n",
        "            loval = q1 - whis * stats['iqr']\n",
        "            hival = q3 + whis * stats['iqr']\n",
        "        else:\n",
        "            raise ValueError('whis must be a float or list of percentiles')\n",
        "\n",
        "        # get high extreme\n",
        "        wiskhi = x[x <= hival]\n",
        "        if len(wiskhi) == 0 or np.max(wiskhi) < q3:\n",
        "            stats['whishi'] = q3\n",
        "            \n",
        "        else:\n",
        "            stats['whishi'] = np.max(wiskhi)\n",
        "            \n",
        "        # get low extreme\n",
        "        wisklo = x[x >= loval]\n",
        "        if len(wisklo) == 0 or np.min(wisklo) > q1:\n",
        "            stats['whislo'] = q1\n",
        "            \n",
        "        else:\n",
        "            stats['whislo'] = np.min(wisklo)\n",
        "            \n",
        "        # compute a single array of outliers\n",
        "        stats['fliers'] = np.concatenate([\n",
        "            x[x < stats['whislo']],\n",
        "            x[x > stats['whishi']],\n",
        "        ])\n",
        "\n",
        "        # add in the remaining stats\n",
        "        stats['q1'], stats['med'], stats['q3'] = q1, med, q3\n",
        "\n",
        "    return bxpstats\n",
        "def _unpack_to_numpy(x):\n",
        "    \"\"\"Internal helper to extract data from e.g. pandas and xarray objects.\"\"\"\n",
        "    if isinstance(x, np.ndarray):\n",
        "        # If numpy, return directly\n",
        "        return x\n",
        "    if hasattr(x, 'to_numpy'):\n",
        "        # Assume that any to_numpy() method actually returns a numpy array\n",
        "        return x.to_numpy()\n",
        "    if hasattr(x, 'values'):\n",
        "        xtmp = x.values\n",
        "        # For example a dict has a 'values' attribute, but it is not a property\n",
        "        # so in this case we do not want to return a function\n",
        "        if isinstance(xtmp, np.ndarray):\n",
        "            return xtmp\n",
        "    return x\n",
        "def _reshape_2D(X, name):\n",
        "    \"\"\"\n",
        "    Use Fortran ordering to convert ndarrays and lists of iterables to lists of\n",
        "    1D arrays.\n",
        "    Lists of iterables are converted by applying `numpy.asanyarray` to each of\n",
        "    their elements.  1D ndarrays are returned in a singleton list containing\n",
        "    them.  2D ndarrays are converted to the list of their *columns*.\n",
        "    *name* is used to generate the error message for invalid inputs.\n",
        "    \"\"\"\n",
        "\n",
        "    # Unpack in case of e.g. Pandas or xarray object\n",
        "    X = _unpack_to_numpy(X)\n",
        "\n",
        "    # Iterate over columns for ndarrays.\n",
        "    if isinstance(X, np.ndarray):\n",
        "        X = X.T\n",
        "\n",
        "        if len(X) == 0:\n",
        "            return [[]]\n",
        "        elif X.ndim == 1 and np.ndim(X[0]) == 0:\n",
        "            # 1D array of scalars: directly return it.\n",
        "            return [X]\n",
        "        elif X.ndim in [1, 2]:\n",
        "            # 2D array, or 1D array of iterables: flatten them first.\n",
        "            return [np.reshape(x, -1) for x in X]\n",
        "        else:\n",
        "            raise ValueError(f'{name} must have 2 or fewer dimensions')\n",
        "\n",
        "    # Iterate over list of iterables.\n",
        "    if len(X) == 0:\n",
        "        return [[]]\n",
        "\n",
        "    result = []\n",
        "    is_1d = True\n",
        "    for xi in X:\n",
        "        # check if this is iterable, except for strings which we\n",
        "        # treat as singletons.\n",
        "        if not isinstance(xi, str):\n",
        "            try:\n",
        "                iter(xi)\n",
        "            except TypeError:\n",
        "                pass\n",
        "            else:\n",
        "                is_1d = False\n",
        "        xi = np.asanyarray(xi)\n",
        "        nd = np.ndim(xi)\n",
        "        if nd > 1:\n",
        "            raise ValueError(f'{name} must have 2 or fewer dimensions')\n",
        "        result.append(xi.reshape(-1))\n",
        "\n",
        "    if is_1d:\n",
        "        # 1D array of scalars: directly return it.\n",
        "        return [np.reshape(result, -1)]\n",
        "    else:\n",
        "        # 2D array, or 1D array of iterables: use flattened version.\n",
        "        return result\n",
        "\n",
        "def get_filenames(Img_Sur, extension):\n",
        "  \"\"\"\n",
        "  Función que permite obtener los nombres de archivos de una lista de nombres de archivos, \n",
        "  filtrándolos por una extensión específica.\n",
        "\n",
        "  Parámetros:\n",
        "  Img_Sur (list): Lista de nombres de archivos.\n",
        "  extension (str): Extensión a filtrar.\n",
        "  \n",
        "  Retorna:\n",
        "  list: Lista de nombres de archivos filtrados por la extensión especificada.\n",
        "  \"\"\"\n",
        "  file_names = [file_name for file_name in Img_Sur if file_name[-3:] == extension]\n",
        "  file_names.sort()\n",
        "  return file_names\n",
        "\n",
        "def vectRGB_S (args):\n",
        "  \"\"\"\n",
        "  Función que permite extraer los valores a nivel pixel de los tres distintos \n",
        "  canales (RGB) de una imagen comparandola a una mascara.\n",
        "\n",
        "  Parámetros:\n",
        "  path: Inicio de la dirección. (Ejemplo: 'omarlopez/Escritorio/')\n",
        "  Img: Imagen que se desea extraer el valor de los pixeles. \n",
        "  Img_Lbl: Mascara de las imagenes.\n",
        "\n",
        "  Retorna: Tres Vectores R,G,B.\n",
        "  \"\"\"\n",
        "  path, Img, Img_Lbl = args\n",
        "\n",
        "  Img_Lbl = imageio.imread(path+Img_Lbl)\n",
        "  Img = imageio.imread(path+Img)\n",
        "  \n",
        "  r,g,b = Img[:,:,0], Img[:,:,1], Img[:,:,2]\n",
        "\n",
        "  idx = (Img_Lbl == 1)\n",
        "  Vr = r[idx].flatten()\n",
        "  Vg = g[idx].flatten()\n",
        "  Vb = b[idx].flatten()\n",
        "  \n",
        "  return Vr, Vg, Vb\n",
        "\n",
        "def vectRGB_S_ (path,Img, Img_Lbl):\n",
        "  \"\"\"\n",
        "  Función que permite extraer los valores a nivel pixel de los tres distintos \n",
        "  canales (RGB) de una imagen comparandola a una mascara.\n",
        "\n",
        "  Parámetros:\n",
        "  path: Inicio de la dirección. (Ejemplo: 'omarlopez/Escritorio/')\n",
        "  Img: Imagen que se desea extraer el valor de los pixeles. \n",
        "  Img_Lbl: Mascara de las imagenes.\n",
        "\n",
        "  Retorna: Tres Vectores R,G,B.\n",
        "  \"\"\"\n",
        "\n",
        "  Img_Lbl = imageio.imread(path+Img_Lbl)\n",
        "  Img = imageio.imread(path+Img)\n",
        "  \n",
        "  r,g,b = Img[:,:,0], Img[:,:,1], Img[:,:,2]\n",
        "\n",
        "  idx = (Img_Lbl == 1)\n",
        "  Vr = r[idx].flatten()\n",
        "  Vg = g[idx].flatten()\n",
        "  Vb = b[idx].flatten()\n",
        "  \n",
        "  return Vr, Vg, Vb"
      ],
      "metadata": {
        "id": "CN7CDFISqvlb"
      },
      "execution_count": null,
      "outputs": []
    },
    {
      "cell_type": "markdown",
      "source": [
        "###PATHS"
      ],
      "metadata": {
        "id": "wceZNC4-PSuI"
      }
    },
    {
      "cell_type": "code",
      "source": [
        "# input_images_path_1 = '/content/drive/MyDrive/Jonathan El-Beze mod/SEC/Subtype_Va (CYS)'\n",
        "# input_images_path_2 = '/content/drive/MyDrive/Jonathan El-Beze mod/SUR/Subtype_IIa (WD)'\n",
        "# Img_ =os.listdir(input_images_path_1)\n",
        "# paso = '/content/drive/MyDrive/Jonathan El-Beze mod/SUR/Subtype_Va (CYS)/'\n",
        "# paso = input_images_path_1 + '/'"
      ],
      "metadata": {
        "id": "cPsD7NWCJE1e"
      },
      "execution_count": null,
      "outputs": []
    },
    {
      "cell_type": "code",
      "source": [
        "main_path = '/content/drive/MyDrive/Jonathan El-Beze mod/'\n",
        "path_sec = main_path + 'SEC/'\n",
        "path_sur = main_path + 'SUR/'\n",
        "path_sec_list = os.listdir(path_sec)\n",
        "path_sur_list = os.listdir(path_sur)\n",
        "\n",
        "\n",
        "#only_subtype = 'SEC-Subtype_Va'\n",
        "#path_sub_sec_type = path_sec + only_subtype\n",
        "#path_sub_sec_type_list =os.listdir(path_sub_sec_type)\n",
        "#path_sub_sec_type_1 =  path_sub_sec_type + '_1'\n",
        "#path_sub_sec_type_list_1 = os.listdir(path_sub_sec_type_1)\n",
        "#name = only_subtype"
      ],
      "metadata": {
        "id": "GZWaht-H54DC"
      },
      "execution_count": null,
      "outputs": []
    },
    {
      "cell_type": "markdown",
      "source": [
        "#prueba"
      ],
      "metadata": {
        "id": "PpUS7AhsOKgA"
      }
    },
    {
      "cell_type": "code",
      "source": [
        "resultados = {}\n",
        "for i in range(len(path_sur_list)):\n",
        "    paso=path_sur+path_sur_list[i]+'/'\n",
        "    _Img_ = os.listdir(path_sur+path_sur_list[i])\n",
        "    args = [(paso, jpg, png) for jpg, png in zip(get_filenames(_Img_, 'jpg'), get_filenames(_Img_, 'png'))]\n",
        "    with Pool(processes=5) as pool:\n",
        "        result = pool.map(vectRGB_S, args)\n",
        "\n",
        "    VR, VG, VB = zip(*result)\n",
        "    VR_1_T = np.concatenate(VR)\n",
        "    VG_1_T = np.concatenate(VG)\n",
        "    VB_1_T = np.concatenate(VB)\n",
        "\n",
        "    resultados[path_sur_list[i]] = [VR_1_T, VG_1_T, VB_1_T]"
      ],
      "metadata": {
        "id": "8klbsdfJ58Dy"
      },
      "execution_count": null,
      "outputs": []
    },
    {
      "cell_type": "code",
      "source": [
        "IIIa = resultados[\"Subtype_IIIa (AU)\"]\n",
        "IIa = resultados[\"Subtype_IIa (WD)\"]\n",
        "Va= resultados[\"Subtype_Va (CYS)\"]\n",
        "Ia= resultados[\"Subtype_Ia (WW)\"]\n",
        "IVc = resultados[\"Subtype_IVc (STR)\"]\n",
        "IVd = resultados[\"Subtype_IVd (BRU)\"]"
      ],
      "metadata": {
        "id": "vTlBEEPaElf0"
      },
      "execution_count": null,
      "outputs": []
    },
    {
      "cell_type": "code",
      "source": [
        "stats_IIIa=boxplot_stats(IIIa)\n",
        "stats_IIa=boxplot_stats(IIa)\n",
        "stats_Va=boxplot_stats(Va)\n",
        "stats_Ia=boxplot_stats(Ia)\n",
        "stats_IVc=boxplot_stats(IVc)\n",
        "stats_IVd=boxplot_stats(IVd)"
      ],
      "metadata": {
        "id": "CiM3NrB5JfAV"
      },
      "execution_count": null,
      "outputs": []
    },
    {
      "cell_type": "code",
      "source": [
        "stats_Ia[1],stats_IIa[2], stats_IIIa[2], stats_IVd[2], stats_Va[2], stats_IVc[2]"
      ],
      "metadata": {
        "colab": {
          "base_uri": "https://localhost:8080/"
        },
        "id": "cc6OqQDMNFdA",
        "outputId": "514d4c1a-9154-4eca-de94-e038a72ab785"
      },
      "execution_count": null,
      "outputs": [
        {
          "output_type": "execute_result",
          "data": {
            "text/plain": [
              "({'mean': 135.5333874769089,\n",
              "  'iqr': 78.0,\n",
              "  'cilo': 131.97279153755318,\n",
              "  'cihi': 132.02720846244682,\n",
              "  'whishi': 255,\n",
              "  'whislo': 0,\n",
              "  'fliers': array([], dtype=uint8),\n",
              "  'q1': 95.0,\n",
              "  'med': 132.0,\n",
              "  'q3': 173.0},\n",
              " {'mean': 117.45895283793988,\n",
              "  'iqr': 69.0,\n",
              "  'cilo': 111.89861247182034,\n",
              "  'cihi': 112.10138752817966,\n",
              "  'whishi': 251,\n",
              "  'whislo': 0,\n",
              "  'fliers': array([255, 255, 255, ..., 255, 255, 255], dtype=uint8),\n",
              "  'q1': 79.0,\n",
              "  'med': 112.0,\n",
              "  'q3': 148.0},\n",
              " {'mean': 113.02053811811794,\n",
              "  'iqr': 73.0,\n",
              "  'cilo': 109.96614515540982,\n",
              "  'cihi': 110.03385484459018,\n",
              "  'whishi': 255,\n",
              "  'whislo': 0,\n",
              "  'fliers': array([], dtype=uint8),\n",
              "  'q1': 75.0,\n",
              "  'med': 110.0,\n",
              "  'q3': 148.0},\n",
              " {'mean': 143.49032046517186,\n",
              "  'iqr': 58.0,\n",
              "  'cilo': 146.96943839445683,\n",
              "  'cihi': 147.03056160554317,\n",
              "  'whishi': 255,\n",
              "  'whislo': 29,\n",
              "  'fliers': array([28, 27, 28, ..., 25, 26, 28], dtype=uint8),\n",
              "  'q1': 116.0,\n",
              "  'med': 147.0,\n",
              "  'q3': 174.0},\n",
              " {'mean': 128.5024687255179,\n",
              "  'iqr': 89.0,\n",
              "  'cilo': 124.93536183379791,\n",
              "  'cihi': 125.06463816620209,\n",
              "  'whishi': 255,\n",
              "  'whislo': 0,\n",
              "  'fliers': array([], dtype=uint8),\n",
              "  'q1': 83.0,\n",
              "  'med': 125.0,\n",
              "  'q3': 172.0},\n",
              " {'mean': 134.6925379679439,\n",
              "  'iqr': 66.0,\n",
              "  'cilo': 135.97524597564694,\n",
              "  'cihi': 136.02475402435306,\n",
              "  'whishi': 255,\n",
              "  'whislo': 3,\n",
              "  'fliers': array([0, 1, 2, ..., 1, 2, 2], dtype=uint8),\n",
              "  'q1': 102.0,\n",
              "  'med': 136.0,\n",
              "  'q3': 168.0})"
            ]
          },
          "metadata": {},
          "execution_count": 11
        }
      ]
    },
    {
      "cell_type": "code",
      "source": [
        "labels_= [\"(AU)\",\"(WD)\",\"(CYS)\",\"(WW)\",\"(STR)\",\"(BRU)\"]"
      ],
      "metadata": {
        "id": "6cDFn4G8VQPV"
      },
      "execution_count": null,
      "outputs": []
    },
    {
      "cell_type": "code",
      "source": [
        "a = \"Label\"\n",
        "dataset_= [a,a,a,a,a,a]"
      ],
      "metadata": {
        "id": "i5PZiJRd9nhj"
      },
      "execution_count": null,
      "outputs": []
    },
    {
      "cell_type": "code",
      "source": [
        "plt.figure(figsize=(10,6))\n",
        "plt.title(\"R_SUR\")\n",
        "plt.boxplot([IIIa[0],IIa[0],Va[0],Ia[0],IVc[0],IVd[0]],labels=labels_)"
      ],
      "metadata": {
        "id": "gqwHpsBXL-sF"
      },
      "execution_count": null,
      "outputs": []
    },
    {
      "cell_type": "code",
      "source": [
        "plt.figure(figsize=(10,6))\n",
        "plt.title(\"G_SUR\")\n",
        "plt.boxplot([IIIa[0],IIa[0],Va[0],Ia[0],IVc[0],IVd[0]],labels=labels_)"
      ],
      "metadata": {
        "id": "b_H916y7QPJi"
      },
      "execution_count": null,
      "outputs": []
    },
    {
      "cell_type": "code",
      "source": [
        "plt.figure(figsize=(10,6))\n",
        "plt.title(\"B_SUR\")\n",
        "plt.boxplot([IIIa[0],IIa[0],Va[0],Ia[0],IVc[0],IVd[0]],labels=labels_)"
      ],
      "metadata": {
        "id": "KUAwVaYhQS5E"
      },
      "execution_count": null,
      "outputs": []
    },
    {
      "cell_type": "code",
      "source": [
        "df_R = pd.DataFrame(data=[stats_IIIa[0],stats_IIa[0],stats_Va[0],stats_Ia[0],stats_IVc[0],stats_IVc[0]],)"
      ],
      "metadata": {
        "id": "OL_4JMeHvZIr"
      },
      "execution_count": null,
      "outputs": []
    },
    {
      "cell_type": "code",
      "source": [
        "df_R.insert(0, 'Subtype', labels_)"
      ],
      "metadata": {
        "id": "U3QuLlXk5d4U"
      },
      "execution_count": null,
      "outputs": []
    },
    {
      "cell_type": "code",
      "source": [
        "df_R.insert(1, 'DataSet', dataset_)"
      ],
      "metadata": {
        "id": "HQ-IlD-G9IGf"
      },
      "execution_count": null,
      "outputs": []
    },
    {
      "cell_type": "code",
      "source": [
        "df_R"
      ],
      "metadata": {
        "colab": {
          "base_uri": "https://localhost:8080/",
          "height": 639
        },
        "id": "nGGTMJKZ8k7o",
        "outputId": "ef91edec-cf21-45e6-d5d1-ba5f6f7c3eb1"
      },
      "execution_count": null,
      "outputs": [
        {
          "output_type": "execute_result",
          "data": {
            "text/plain": [
              "  Subtype DataSet        mean   iqr        cilo        cihi  whishi  whislo  \\\n",
              "0    (AU)   Label  162.635846  70.0  165.969983  166.030017      -1      24   \n",
              "1    (WD)   Label  153.071819  77.0  154.883055  155.116945      -1       2   \n",
              "2   (CYS)   Label  164.251532  75.0  166.949698  167.050302      -1      16   \n",
              "3    (WW)   Label  156.268409  84.0  153.945697  154.054303      -1       0   \n",
              "4   (STR)   Label  163.850389  67.0  165.964874  166.035126      -1      31   \n",
              "5   (BRU)   Label  163.850389  67.0  165.964874  166.035126      -1      31   \n",
              "\n",
              "                                              fliers     q1    med     q3  \n",
              "0  [12, 12, 17, 21, 23, 19, 19, 23, 18, 17, 20, 2...  129.0  166.0  199.0  \n",
              "1                                                [1]  117.0  155.0  194.0  \n",
              "2  [15, 15, 15, 12, 15, 13, 15, 13, 15, 12, 13, 1...  128.0  167.0  203.0  \n",
              "3                                                 []  114.0  154.0  198.0  \n",
              "4  [30, 29, 29, 23, 23, 26, 30, 28, 27, 30, 29, 2...  131.0  166.0  198.0  \n",
              "5  [30, 29, 29, 23, 23, 26, 30, 28, 27, 30, 29, 2...  131.0  166.0  198.0  "
            ],
            "text/html": [
              "\n",
              "  <div id=\"df-a70d036c-e51b-4a1d-b572-28fc7034aeae\">\n",
              "    <div class=\"colab-df-container\">\n",
              "      <div>\n",
              "<style scoped>\n",
              "    .dataframe tbody tr th:only-of-type {\n",
              "        vertical-align: middle;\n",
              "    }\n",
              "\n",
              "    .dataframe tbody tr th {\n",
              "        vertical-align: top;\n",
              "    }\n",
              "\n",
              "    .dataframe thead th {\n",
              "        text-align: right;\n",
              "    }\n",
              "</style>\n",
              "<table border=\"1\" class=\"dataframe\">\n",
              "  <thead>\n",
              "    <tr style=\"text-align: right;\">\n",
              "      <th></th>\n",
              "      <th>Subtype</th>\n",
              "      <th>DataSet</th>\n",
              "      <th>mean</th>\n",
              "      <th>iqr</th>\n",
              "      <th>cilo</th>\n",
              "      <th>cihi</th>\n",
              "      <th>whishi</th>\n",
              "      <th>whislo</th>\n",
              "      <th>fliers</th>\n",
              "      <th>q1</th>\n",
              "      <th>med</th>\n",
              "      <th>q3</th>\n",
              "    </tr>\n",
              "  </thead>\n",
              "  <tbody>\n",
              "    <tr>\n",
              "      <th>0</th>\n",
              "      <td>(AU)</td>\n",
              "      <td>Label</td>\n",
              "      <td>162.635846</td>\n",
              "      <td>70.0</td>\n",
              "      <td>165.969983</td>\n",
              "      <td>166.030017</td>\n",
              "      <td>-1</td>\n",
              "      <td>24</td>\n",
              "      <td>[12, 12, 17, 21, 23, 19, 19, 23, 18, 17, 20, 2...</td>\n",
              "      <td>129.0</td>\n",
              "      <td>166.0</td>\n",
              "      <td>199.0</td>\n",
              "    </tr>\n",
              "    <tr>\n",
              "      <th>1</th>\n",
              "      <td>(WD)</td>\n",
              "      <td>Label</td>\n",
              "      <td>153.071819</td>\n",
              "      <td>77.0</td>\n",
              "      <td>154.883055</td>\n",
              "      <td>155.116945</td>\n",
              "      <td>-1</td>\n",
              "      <td>2</td>\n",
              "      <td>[1]</td>\n",
              "      <td>117.0</td>\n",
              "      <td>155.0</td>\n",
              "      <td>194.0</td>\n",
              "    </tr>\n",
              "    <tr>\n",
              "      <th>2</th>\n",
              "      <td>(CYS)</td>\n",
              "      <td>Label</td>\n",
              "      <td>164.251532</td>\n",
              "      <td>75.0</td>\n",
              "      <td>166.949698</td>\n",
              "      <td>167.050302</td>\n",
              "      <td>-1</td>\n",
              "      <td>16</td>\n",
              "      <td>[15, 15, 15, 12, 15, 13, 15, 13, 15, 12, 13, 1...</td>\n",
              "      <td>128.0</td>\n",
              "      <td>167.0</td>\n",
              "      <td>203.0</td>\n",
              "    </tr>\n",
              "    <tr>\n",
              "      <th>3</th>\n",
              "      <td>(WW)</td>\n",
              "      <td>Label</td>\n",
              "      <td>156.268409</td>\n",
              "      <td>84.0</td>\n",
              "      <td>153.945697</td>\n",
              "      <td>154.054303</td>\n",
              "      <td>-1</td>\n",
              "      <td>0</td>\n",
              "      <td>[]</td>\n",
              "      <td>114.0</td>\n",
              "      <td>154.0</td>\n",
              "      <td>198.0</td>\n",
              "    </tr>\n",
              "    <tr>\n",
              "      <th>4</th>\n",
              "      <td>(STR)</td>\n",
              "      <td>Label</td>\n",
              "      <td>163.850389</td>\n",
              "      <td>67.0</td>\n",
              "      <td>165.964874</td>\n",
              "      <td>166.035126</td>\n",
              "      <td>-1</td>\n",
              "      <td>31</td>\n",
              "      <td>[30, 29, 29, 23, 23, 26, 30, 28, 27, 30, 29, 2...</td>\n",
              "      <td>131.0</td>\n",
              "      <td>166.0</td>\n",
              "      <td>198.0</td>\n",
              "    </tr>\n",
              "    <tr>\n",
              "      <th>5</th>\n",
              "      <td>(BRU)</td>\n",
              "      <td>Label</td>\n",
              "      <td>163.850389</td>\n",
              "      <td>67.0</td>\n",
              "      <td>165.964874</td>\n",
              "      <td>166.035126</td>\n",
              "      <td>-1</td>\n",
              "      <td>31</td>\n",
              "      <td>[30, 29, 29, 23, 23, 26, 30, 28, 27, 30, 29, 2...</td>\n",
              "      <td>131.0</td>\n",
              "      <td>166.0</td>\n",
              "      <td>198.0</td>\n",
              "    </tr>\n",
              "  </tbody>\n",
              "</table>\n",
              "</div>\n",
              "      <button class=\"colab-df-convert\" onclick=\"convertToInteractive('df-a70d036c-e51b-4a1d-b572-28fc7034aeae')\"\n",
              "              title=\"Convert this dataframe to an interactive table.\"\n",
              "              style=\"display:none;\">\n",
              "        \n",
              "  <svg xmlns=\"http://www.w3.org/2000/svg\" height=\"24px\"viewBox=\"0 0 24 24\"\n",
              "       width=\"24px\">\n",
              "    <path d=\"M0 0h24v24H0V0z\" fill=\"none\"/>\n",
              "    <path d=\"M18.56 5.44l.94 2.06.94-2.06 2.06-.94-2.06-.94-.94-2.06-.94 2.06-2.06.94zm-11 1L8.5 8.5l.94-2.06 2.06-.94-2.06-.94L8.5 2.5l-.94 2.06-2.06.94zm10 10l.94 2.06.94-2.06 2.06-.94-2.06-.94-.94-2.06-.94 2.06-2.06.94z\"/><path d=\"M17.41 7.96l-1.37-1.37c-.4-.4-.92-.59-1.43-.59-.52 0-1.04.2-1.43.59L10.3 9.45l-7.72 7.72c-.78.78-.78 2.05 0 2.83L4 21.41c.39.39.9.59 1.41.59.51 0 1.02-.2 1.41-.59l7.78-7.78 2.81-2.81c.8-.78.8-2.07 0-2.86zM5.41 20L4 18.59l7.72-7.72 1.47 1.35L5.41 20z\"/>\n",
              "  </svg>\n",
              "      </button>\n",
              "      \n",
              "  <style>\n",
              "    .colab-df-container {\n",
              "      display:flex;\n",
              "      flex-wrap:wrap;\n",
              "      gap: 12px;\n",
              "    }\n",
              "\n",
              "    .colab-df-convert {\n",
              "      background-color: #E8F0FE;\n",
              "      border: none;\n",
              "      border-radius: 50%;\n",
              "      cursor: pointer;\n",
              "      display: none;\n",
              "      fill: #1967D2;\n",
              "      height: 32px;\n",
              "      padding: 0 0 0 0;\n",
              "      width: 32px;\n",
              "    }\n",
              "\n",
              "    .colab-df-convert:hover {\n",
              "      background-color: #E2EBFA;\n",
              "      box-shadow: 0px 1px 2px rgba(60, 64, 67, 0.3), 0px 1px 3px 1px rgba(60, 64, 67, 0.15);\n",
              "      fill: #174EA6;\n",
              "    }\n",
              "\n",
              "    [theme=dark] .colab-df-convert {\n",
              "      background-color: #3B4455;\n",
              "      fill: #D2E3FC;\n",
              "    }\n",
              "\n",
              "    [theme=dark] .colab-df-convert:hover {\n",
              "      background-color: #434B5C;\n",
              "      box-shadow: 0px 1px 3px 1px rgba(0, 0, 0, 0.15);\n",
              "      filter: drop-shadow(0px 1px 2px rgba(0, 0, 0, 0.3));\n",
              "      fill: #FFFFFF;\n",
              "    }\n",
              "  </style>\n",
              "\n",
              "      <script>\n",
              "        const buttonEl =\n",
              "          document.querySelector('#df-a70d036c-e51b-4a1d-b572-28fc7034aeae button.colab-df-convert');\n",
              "        buttonEl.style.display =\n",
              "          google.colab.kernel.accessAllowed ? 'block' : 'none';\n",
              "\n",
              "        async function convertToInteractive(key) {\n",
              "          const element = document.querySelector('#df-a70d036c-e51b-4a1d-b572-28fc7034aeae');\n",
              "          const dataTable =\n",
              "            await google.colab.kernel.invokeFunction('convertToInteractive',\n",
              "                                                     [key], {});\n",
              "          if (!dataTable) return;\n",
              "\n",
              "          const docLinkHtml = 'Like what you see? Visit the ' +\n",
              "            '<a target=\"_blank\" href=https://colab.research.google.com/notebooks/data_table.ipynb>data table notebook</a>'\n",
              "            + ' to learn more about interactive tables.';\n",
              "          element.innerHTML = '';\n",
              "          dataTable['output_type'] = 'display_data';\n",
              "          await google.colab.output.renderOutput(dataTable, element);\n",
              "          const docLink = document.createElement('div');\n",
              "          docLink.innerHTML = docLinkHtml;\n",
              "          element.appendChild(docLink);\n",
              "        }\n",
              "      </script>\n",
              "    </div>\n",
              "  </div>\n",
              "  "
            ]
          },
          "metadata": {},
          "execution_count": 25
        }
      ]
    },
    {
      "cell_type": "code",
      "source": [
        "stats_IIIa[0][]"
      ],
      "metadata": {
        "colab": {
          "base_uri": "https://localhost:8080/"
        },
        "id": "4TppnumN4NG8",
        "outputId": "ac2613ae-7ab2-4f98-e2d2-ef818899de2b"
      },
      "execution_count": null,
      "outputs": [
        {
          "output_type": "execute_result",
          "data": {
            "text/plain": [
              "{'mean': 162.63584599076748,\n",
              " 'iqr': 70.0,\n",
              " 'cilo': 165.96998272939916,\n",
              " 'cihi': 166.03001727060084,\n",
              " 'whishi': 255,\n",
              " 'whislo': 24,\n",
              " 'fliers': array([12, 12, 17, ..., 22, 16, 23], dtype=uint8),\n",
              " 'q1': 129.0,\n",
              " 'med': 166.0,\n",
              " 'q3': 199.0}"
            ]
          },
          "metadata": {},
          "execution_count": 22
        }
      ]
    },
    {
      "cell_type": "code",
      "source": [
        "mean_Ivd"
      ],
      "metadata": {
        "colab": {
          "base_uri": "https://localhost:8080/"
        },
        "id": "4M4PH1HL5BzW",
        "outputId": "e6f75904-9c29-40ef-bd97-ab9bb201e9d8"
      },
      "execution_count": null,
      "outputs": [
        {
          "output_type": "execute_result",
          "data": {
            "text/plain": [
              "162.63584599076748"
            ]
          },
          "metadata": {},
          "execution_count": 15
        }
      ]
    },
    {
      "cell_type": "markdown",
      "source": [
        "#Exportaciones"
      ],
      "metadata": {
        "id": "MyCYYmeuIMZx"
      }
    },
    {
      "cell_type": "code",
      "source": [
        "with open(\"resultados_RGB_LBL.pickle\", \"wb\") as file:\n",
        "    pickle.dump(resultados, file)"
      ],
      "metadata": {
        "id": "cBsOgvNMINva"
      },
      "execution_count": null,
      "outputs": []
    }
  ],
  "metadata": {
    "colab": {
      "provenance": [],
      "collapsed_sections": [
        "4yCjyVYLPPLS",
        "UPLkTRG7NU1l",
        "PqvQJejPYTM_",
        "Fr_xa_bNFXfL",
        "bW_x6WUoO7cb"
      ],
      "mount_file_id": "1hTLREgkyif2VgomDoSSMo9Z6IahvZ1Pf",
      "authorship_tag": "ABX9TyPtbZNV9cfFA3Ca1U/dZ1nT",
      "include_colab_link": true
    },
    "kernelspec": {
      "display_name": "Python 3",
      "name": "python3"
    },
    "language_info": {
      "name": "python"
    }
  },
  "nbformat": 4,
  "nbformat_minor": 0
}