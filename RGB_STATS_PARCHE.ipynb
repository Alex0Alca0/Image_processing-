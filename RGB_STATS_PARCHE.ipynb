{
  "cells": [
    {
      "cell_type": "markdown",
      "metadata": {
        "id": "view-in-github",
        "colab_type": "text"
      },
      "source": [
        "<a href=\"https://colab.research.google.com/github/Alex0Alca0/Image_processing-/blob/main/RGB_STATS_PARCHE.ipynb\" target=\"_parent\"><img src=\"https://colab.research.google.com/assets/colab-badge.svg\" alt=\"Open In Colab\"/></a>"
      ]
    },
    {
      "cell_type": "markdown",
      "source": [
        "#Imports"
      ],
      "metadata": {
        "id": "IiMjPPLzBspX"
      }
    },
    {
      "cell_type": "code",
      "execution_count": null,
      "metadata": {
        "id": "RF8nyhKMWwJK"
      },
      "outputs": [],
      "source": [
        "import os \n",
        "import numpy as np \n",
        "import pandas as pd \n",
        "import skimage\n",
        "import imageio\n",
        "import scipy\n",
        "import matplotlib.pyplot as plt\n",
        "from PIL import Image\n",
        "import statistics\n",
        "from scipy.stats import kurtosis\n",
        "import cv2\n",
        "import time\n",
        "import concurrent.futures\n",
        "import multiprocessing\n",
        "from multiprocessing import Pool\n",
        "import itertools\n",
        "import pickle"
      ]
    },
    {
      "cell_type": "markdown",
      "source": [
        "#Main Code"
      ],
      "metadata": {
        "id": "38QLggTqB1-Q"
      }
    },
    {
      "cell_type": "code",
      "source": [
        "from google.colab import auth\n",
        "from googleapiclient.discovery import build\n",
        "from googleapiclient.errors import HttpError\n",
        "from oauth2client.client import GoogleCredentials\n",
        "\n",
        "# Autenticar y crear la conexión al API de Drive\n",
        "auth.authenticate_user()\n",
        "gauth = GoogleCredentials.get_application_default()\n",
        "drive_service = build('drive', 'v3', credentials=gauth)"
      ],
      "metadata": {
        "id": "o6apqd5tfYPH"
      },
      "execution_count": null,
      "outputs": []
    },
    {
      "cell_type": "code",
      "source": [
        "def boxplot_stats(X, whis=1.5, bootstrap=None, labels=None,\n",
        "                  autorange=False):\n",
        "    r\"\"\"\n",
        "    Return a list of dictionaries of statistics used to draw a series of box\n",
        "    and whisker plots using `~.Axes.bxp`.\n",
        "    Parameters\n",
        "    ----------\n",
        "    X : array-like\n",
        "        Data that will be represented in the boxplots. Should have 2 or\n",
        "        fewer dimensions.\n",
        "    whis : float or (float, float), default: 1.5\n",
        "        The position of the whiskers.\n",
        "        If a float, the lower whisker is at the lowest datum above\n",
        "        ``Q1 - whis*(Q3-Q1)``, and the upper whisker at the highest datum below\n",
        "        ``Q3 + whis*(Q3-Q1)``, where Q1 and Q3 are the first and third\n",
        "        quartiles.  The default value of ``whis = 1.5`` corresponds to Tukey's\n",
        "        original definition of boxplots.\n",
        "        If a pair of floats, they indicate the percentiles at which to draw the\n",
        "        whiskers (e.g., (5, 95)).  In particular, setting this to (0, 100)\n",
        "        results in whiskers covering the whole range of the data.\n",
        "        In the edge case where ``Q1 == Q3``, *whis* is automatically set to\n",
        "        (0, 100) (cover the whole range of the data) if *autorange* is True.\n",
        "        Beyond the whiskers, data are considered outliers and are plotted as\n",
        "        individual points.\n",
        "    bootstrap : int, optional\n",
        "        Number of times the confidence intervals around the median\n",
        "        should be bootstrapped (percentile method).\n",
        "    labels : array-like, optional\n",
        "        Labels for each dataset. Length must be compatible with\n",
        "        dimensions of *X*.\n",
        "    autorange : bool, optional (False)\n",
        "        When `True` and the data are distributed such that the 25th and 75th\n",
        "        percentiles are equal, ``whis`` is set to (0, 100) such that the\n",
        "        whisker ends are at the minimum and maximum of the data.\n",
        "    Returns\n",
        "    -------\n",
        "    list of dict\n",
        "        A list of dictionaries containing the results for each column\n",
        "        of data. Keys of each dictionary are the following:\n",
        "        ========   ===================================\n",
        "        Key        Value Description\n",
        "        ========   ===================================\n",
        "        label      tick label for the boxplot\n",
        "        mean       arithmetic mean value\n",
        "        med        50th percentile\n",
        "        q1         first quartile (25th percentile)\n",
        "        q3         third quartile (75th percentile)\n",
        "        iqr        interquartile range\n",
        "        cilo       lower notch around the median\n",
        "        cihi       upper notch around the median\n",
        "        whislo     end of the lower whisker\n",
        "        whishi     end of the upper whisker\n",
        "        fliers     outliers\n",
        "        ========   ===================================\n",
        "    Notes\n",
        "    -----\n",
        "    Non-bootstrapping approach to confidence interval uses Gaussian-based\n",
        "    asymptotic approximation:\n",
        "    .. math::\n",
        "        \\mathrm{med} \\pm 1.57 \\times \\frac{\\mathrm{iqr}}{\\sqrt{N}}\n",
        "    General approach from:\n",
        "    McGill, R., Tukey, J.W., and Larsen, W.A. (1978) \"Variations of\n",
        "    Boxplots\", The American Statistician, 32:12-16.\n",
        "    \"\"\"\n",
        "\n",
        "    def _bootstrap_median(data, N=5000):\n",
        "        # determine 95% confidence intervals of the median\n",
        "        M = len(data)\n",
        "        percentiles = [2.5, 97.5]\n",
        "\n",
        "        bs_index = np.random.randint(M, size=(N, M))\n",
        "        bsData = data[bs_index]\n",
        "        estimate = np.median(bsData, axis=1, overwrite_input=True)\n",
        "\n",
        "        CI = np.percentile(estimate, percentiles)\n",
        "        return CI\n",
        "\n",
        "    def _compute_conf_interval(data, med, iqr, bootstrap):\n",
        "        if bootstrap is not None:\n",
        "            # Do a bootstrap estimate of notch locations.\n",
        "            # get conf. intervals around median\n",
        "            CI = _bootstrap_median(data, N=bootstrap)\n",
        "            notch_min = CI[0]\n",
        "            notch_max = CI[1]\n",
        "        else:\n",
        "\n",
        "            N = len(data)\n",
        "            notch_min = med - 1.57 * iqr / np.sqrt(N)\n",
        "            notch_max = med + 1.57 * iqr / np.sqrt(N)\n",
        "\n",
        "        return notch_min, notch_max\n",
        "\n",
        "    # output is a list of dicts\n",
        "    bxpstats = []\n",
        "\n",
        "    # convert X to a list of lists\n",
        "    X = _reshape_2D(X, \"X\")\n",
        "\n",
        "    ncols = len(X)\n",
        "    if labels is None:\n",
        "        labels = itertools.repeat(None)\n",
        "    elif len(labels) != ncols:\n",
        "        raise ValueError(\"Dimensions of labels and X must be compatible\")\n",
        "\n",
        "    input_whis = whis\n",
        "    for ii, (x, label) in enumerate(zip(X, labels)):\n",
        "\n",
        "        # empty dict\n",
        "        stats = {}\n",
        "        if label is not None:\n",
        "            stats['label'] = label\n",
        "\n",
        "        # restore whis to the input values in case it got changed in the loop\n",
        "        whis = input_whis\n",
        "\n",
        "        # note tricksiness, append up here and then mutate below\n",
        "        bxpstats.append(stats)\n",
        "\n",
        "        # if empty, bail\n",
        "        if len(x) == 0:\n",
        "            stats['fliers'] = np.array([])\n",
        "            stats['mean'] = np.nan\n",
        "            stats['med'] = np.nan\n",
        "            stats['q1'] = np.nan\n",
        "            stats['q3'] = np.nan\n",
        "            stats['iqr'] = np.nan\n",
        "            stats['cilo'] = np.nan\n",
        "            stats['cihi'] = np.nan\n",
        "            stats['whislo'] = np.nan\n",
        "            stats['whishi'] = np.nan\n",
        "            continue\n",
        "\n",
        "        # up-convert to an array, just to be safe\n",
        "        x = np.asarray(x)\n",
        "\n",
        "        # arithmetic mean\n",
        "        stats['mean'] = np.mean(x)\n",
        "\n",
        "        # medians and quartiles\n",
        "        q1, med, q3 = np.percentile(x, [25, 50, 75])\n",
        "\n",
        "        # interquartile range\n",
        "        stats['iqr'] = q3 - q1\n",
        "        if stats['iqr'] == 0 and autorange:\n",
        "            whis = (0, 100)\n",
        "\n",
        "        # conf. interval around median\n",
        "        stats['cilo'], stats['cihi'] = _compute_conf_interval(\n",
        "            x, med, stats['iqr'], bootstrap\n",
        "        )\n",
        "\n",
        "        # lowest/highest non-outliers\n",
        "        if np.iterable(whis) and not isinstance(whis, str):\n",
        "            loval, hival = np.percentile(x, whis)\n",
        "        elif np.isreal(whis):\n",
        "            loval = q1 - whis * stats['iqr']\n",
        "            hival = q3 + whis * stats['iqr']\n",
        "        else:\n",
        "            raise ValueError('whis must be a float or list of percentiles')\n",
        "\n",
        "        # get high extreme\n",
        "        wiskhi = x[x <= hival]\n",
        "        if len(wiskhi) == 0 or np.max(wiskhi) < q3:\n",
        "            stats['whishi'] = q3\n",
        "            \n",
        "        else:\n",
        "            stats['whishi'] = np.max(wiskhi)\n",
        "            \n",
        "        # get low extreme\n",
        "        wisklo = x[x >= loval]\n",
        "        if len(wisklo) == 0 or np.min(wisklo) > q1:\n",
        "            stats['whislo'] = q1\n",
        "            \n",
        "        else:\n",
        "            stats['whislo'] = np.min(wisklo)\n",
        "            \n",
        "        # compute a single array of outliers\n",
        "        stats['fliers'] = np.concatenate([\n",
        "            x[x < stats['whislo']],\n",
        "            x[x > stats['whishi']],\n",
        "        ])\n",
        "\n",
        "        # add in the remaining stats\n",
        "        stats['q1'], stats['med'], stats['q3'] = q1, med, q3\n",
        "\n",
        "    return bxpstats\n",
        "def _unpack_to_numpy(x):\n",
        "    \"\"\"Internal helper to extract data from e.g. pandas and xarray objects.\"\"\"\n",
        "    if isinstance(x, np.ndarray):\n",
        "        # If numpy, return directly\n",
        "        return x\n",
        "    if hasattr(x, 'to_numpy'):\n",
        "        # Assume that any to_numpy() method actually returns a numpy array\n",
        "        return x.to_numpy()\n",
        "    if hasattr(x, 'values'):\n",
        "        xtmp = x.values\n",
        "        # For example a dict has a 'values' attribute, but it is not a property\n",
        "        # so in this case we do not want to return a function\n",
        "        if isinstance(xtmp, np.ndarray):\n",
        "            return xtmp\n",
        "    return x\n",
        "def _reshape_2D(X, name):\n",
        "    \"\"\"\n",
        "    Use Fortran ordering to convert ndarrays and lists of iterables to lists of\n",
        "    1D arrays.\n",
        "    Lists of iterables are converted by applying `numpy.asanyarray` to each of\n",
        "    their elements.  1D ndarrays are returned in a singleton list containing\n",
        "    them.  2D ndarrays are converted to the list of their *columns*.\n",
        "    *name* is used to generate the error message for invalid inputs.\n",
        "    \"\"\"\n",
        "\n",
        "    # Unpack in case of e.g. Pandas or xarray object\n",
        "    X = _unpack_to_numpy(X)\n",
        "\n",
        "    # Iterate over columns for ndarrays.\n",
        "    if isinstance(X, np.ndarray):\n",
        "        X = X.T\n",
        "\n",
        "        if len(X) == 0:\n",
        "            return [[]]\n",
        "        elif X.ndim == 1 and np.ndim(X[0]) == 0:\n",
        "            # 1D array of scalars: directly return it.\n",
        "            return [X]\n",
        "        elif X.ndim in [1, 2]:\n",
        "            # 2D array, or 1D array of iterables: flatten them first.\n",
        "            return [np.reshape(x, -1) for x in X]\n",
        "        else:\n",
        "            raise ValueError(f'{name} must have 2 or fewer dimensions')\n",
        "\n",
        "    # Iterate over list of iterables.\n",
        "    if len(X) == 0:\n",
        "        return [[]]\n",
        "\n",
        "    result = []\n",
        "    is_1d = True\n",
        "    for xi in X:\n",
        "        # check if this is iterable, except for strings which we\n",
        "        # treat as singletons.\n",
        "        if not isinstance(xi, str):\n",
        "            try:\n",
        "                iter(xi)\n",
        "            except TypeError:\n",
        "                pass\n",
        "            else:\n",
        "                is_1d = False\n",
        "        xi = np.asanyarray(xi)\n",
        "        nd = np.ndim(xi)\n",
        "        if nd > 1:\n",
        "            raise ValueError(f'{name} must have 2 or fewer dimensions')\n",
        "        result.append(xi.reshape(-1))\n",
        "\n",
        "    if is_1d:\n",
        "        # 1D array of scalars: directly return it.\n",
        "        return [np.reshape(result, -1)]\n",
        "    else:\n",
        "        # 2D array, or 1D array of iterables: use flattened version.\n",
        "        return result\n",
        "\n",
        "def get_filenames(Img_Sur, extension):\n",
        "  \"\"\"\n",
        "  Función que permite obtener los nombres de archivos de una lista de nombres de archivos, \n",
        "  filtrándolos por una extensión específica.\n",
        "\n",
        "  Parámetros:\n",
        "  Img_Sur (list): Lista de nombres de archivos.\n",
        "  extension (str): Extensión a filtrar.\n",
        "  \n",
        "  Retorna:\n",
        "  list: Lista de nombres de archivos filtrados por la extensión especificada.\n",
        "  \"\"\"\n",
        "  file_names = [file_name for file_name in Img_Sur if file_name[-3:] == extension]\n",
        "  file_names.sort()\n",
        "  return file_names\n",
        "\n",
        "def vectRGB_S (args):\n",
        "  \"\"\"\n",
        "  Función que permite extraer los valores a nivel pixel de los tres distintos \n",
        "  canales (RGB) de una imagen comparandola a una mascara.\n",
        "\n",
        "  Parámetros:\n",
        "  path: Inicio de la dirección. (Ejemplo: 'omarlopez/Escritorio/')\n",
        "  Img: Imagen que se desea extraer el valor de los pixeles. \n",
        "  Img_Lbl: Mascara de las imagenes.\n",
        "\n",
        "  Retorna: Tres Vectores R,G,B.\n",
        "  \"\"\"\n",
        "  path, Img, Img_Lbl = args\n",
        "\n",
        "  Img_Lbl = imageio.imread(path+Img_Lbl)\n",
        "  Img = imageio.imread(path+Img)\n",
        "  \n",
        "  r,g,b = Img[:,:,0], Img[:,:,1], Img[:,:,2]\n",
        "\n",
        "  idx = (Img_Lbl == 1)\n",
        "  Vr = r[idx].flatten()\n",
        "  Vg = g[idx].flatten()\n",
        "  Vb = b[idx].flatten()\n",
        "  \n",
        "  return Vr, Vg, Vb\n",
        "\n",
        "def vectRGB_S_ (path,Img, Img_Lbl):\n",
        "  \"\"\"\n",
        "  Función que permite extraer los valores a nivel pixel de los tres distintos \n",
        "  canales (RGB) de una imagen comparandola a una mascara.\n",
        "\n",
        "  Parámetros:\n",
        "  path: Inicio de la dirección. (Ejemplo: 'omarlopez/Escritorio/')\n",
        "  Img: Imagen que se desea extraer el valor de los pixeles. \n",
        "  Img_Lbl: Mascara de las imagenes.\n",
        "\n",
        "  Retorna: Tres Vectores R,G,B.\n",
        "  \"\"\"\n",
        "\n",
        "  Img_Lbl = imageio.imread(path+Img_Lbl)\n",
        "  Img = imageio.imread(path+Img)\n",
        "  \n",
        "  r,g,b = Img[:,:,0], Img[:,:,1], Img[:,:,2]\n",
        "\n",
        "  idx = (Img_Lbl == 1)\n",
        "  Vr = r[idx].flatten()\n",
        "  Vg = g[idx].flatten()\n",
        "  Vb = b[idx].flatten()\n",
        "  \n",
        "  return Vr, Vg, Vb"
      ],
      "metadata": {
        "id": "o56AmGaaSGKE"
      },
      "execution_count": null,
      "outputs": []
    },
    {
      "cell_type": "code",
      "source": [
        "#Lo que hace esta función es poner en un arreglo todos los valores de los pixeles 1xn \n",
        "#pero son listas de listas, es decir, cada posición es una [img1= 1xn][img2=1xn_1][img_3=1xn_2][img_4=1xn_3][img_4=1xn_4]\n",
        "def vectRGB (args):\n",
        "\n",
        "  path, Img = args\n",
        "\n",
        "  Img = imageio.imread(path+'/'+Img)\n",
        "\n",
        "  r,g,b = Img[:,:,0], Img[:,:,1], Img[:,:,2]\n",
        "  Vr = r.flatten()\n",
        "  Vg = g.flatten()\n",
        "  Vb = b.flatten()\n",
        "\n",
        "  return Vr, Vg, Vb"
      ],
      "metadata": {
        "id": "_PqoDWUHl1d-"
      },
      "execution_count": null,
      "outputs": []
    },
    {
      "cell_type": "code",
      "source": [
        "def process_data(data):\n",
        "    return boxplot_stats(data)"
      ],
      "metadata": {
        "id": "GTJbpz86oQsm"
      },
      "execution_count": null,
      "outputs": []
    },
    {
      "cell_type": "code",
      "source": [
        "folder_name = \"RGB_STATS_PARCHE\"\n",
        "mime_type = \"application/vnd.google-apps.folder\"\n",
        "\n",
        "# Crear metadata de la carpeta\n",
        "file_metadata = {\n",
        "    \"name\": folder_name,\n",
        "    \"mimeType\": mime_type\n",
        "}\n",
        "\n",
        "# Crear la carpeta en Drive\n",
        "folder = drive_service.files().create(body=file_metadata, fields=\"id\").execute()\n",
        "\n",
        "# Obtener el ID de la carpeta\n",
        "folder_id = folder.get(\"id\")\n",
        "\n",
        "# Imprimir el ID de la carpeta\n",
        "print(\"ID de la carpeta creada:\", folder_id)"
      ],
      "metadata": {
        "colab": {
          "base_uri": "https://localhost:8080/"
        },
        "id": "IAi8LpB9eH-U",
        "outputId": "b493459e-3d60-416f-ac7a-7d4a5470f088"
      },
      "execution_count": null,
      "outputs": [
        {
          "output_type": "stream",
          "name": "stdout",
          "text": [
            "ID de la carpeta creada: 1A-h5bZkJ9VFdcBCxPoYY4M-fy-CaqhCf\n"
          ]
        }
      ]
    },
    {
      "cell_type": "markdown",
      "source": [
        "#Codigo"
      ],
      "metadata": {
        "id": "chCsis5t19wi"
      }
    },
    {
      "cell_type": "code",
      "execution_count": null,
      "metadata": {
        "id": "hafCsBRKW2Wa"
      },
      "outputs": [],
      "source": [
        "main_path = '/content/drive/MyDrive/jonathan_patch/'\n",
        "path_sec = main_path + 'SEC/'\n",
        "path_sur = main_path + 'SUR/'\n",
        "path_sec_list = os.listdir(path_sec)\n",
        "path_sur_list = os.listdir(path_sur)"
      ]
    },
    {
      "cell_type": "code",
      "source": [
        "resultados = {}\n",
        "for i in range(len(path_sec_list)):\n",
        "    paso = path_sec + path_sec_list[i] + '/'\n",
        "    _Img_ = os.listdir(path_sec + path_sec_list[i])\n",
        "    args = [(paso, png) for png in get_filenames(_Img_, 'png')]\n",
        "    with Pool(processes=5) as pool:\n",
        "        result = pool.map(vectRGB, args)\n",
        "\n",
        "    VR, VG, VB = zip(*result)\n",
        "    VR_1_T = np.concatenate(VR)\n",
        "    VG_1_T = np.concatenate(VG)\n",
        "    VB_1_T = np.concatenate(VB)\n",
        "\n",
        "    resultados[path_sec_list[i]] = [VR_1_T, VG_1_T, VB_1_T]"
      ],
      "metadata": {
        "id": "NnvvxsstWjSv"
      },
      "execution_count": null,
      "outputs": []
    },
    {
      "cell_type": "code",
      "source": [
        "keys = ['SEC-Subtype_IVc', 'SEC-Subtype_IIIa', 'SEC-Subtype_Ia', 'SEC-Subtype_IVd', 'SEC-Subtype_IIa', 'SEC-Subtype_Va']\n",
        "R_ = {}\n",
        "G_ = {}\n",
        "B_ = {}\n",
        "stats_R = {}\n",
        "stats_G = {}\n",
        "stats_B = {}\n",
        "\n",
        "for key in keys:\n",
        "    R_[key] = np.concatenate((resultados[key][0], resultados[key+'_1'][0]), axis=None)\n",
        "    #R_[key] = data\n",
        "    #stats_R[key] = boxplot_stats(data)\n",
        "  \n",
        "for key in keys:\n",
        "    G_[key]= np.concatenate((resultados[key][1], resultados[key+'_1'][1]), axis=None)\n",
        "    #G_[key] = data\n",
        "    #stats_G[key] = boxplot_stats(data)\n",
        "\n",
        "for key in keys:\n",
        "    B_[key] = np.concatenate((resultados[key][2], resultados[key+'_1'][2]), axis=None)\n",
        "    #B_[key] = data\n",
        "    #stats_B[key] = boxplot_stats(data)"
      ],
      "metadata": {
        "id": "fqhVXnu_ysfJ"
      },
      "execution_count": null,
      "outputs": []
    },
    {
      "cell_type": "code",
      "source": [
        "with open(\"/content/drive/MyDrive/RGB_STATS_PARCHE/resultados_RGB_Parche_SEC.pickle\", \"wb\") as file:\n",
        "    pickle.dump(resultados, file)"
      ],
      "metadata": {
        "id": "iZQFQQL6a2vU"
      },
      "execution_count": null,
      "outputs": []
    },
    {
      "cell_type": "code",
      "source": [
        "del stats_R, stats_G"
      ],
      "metadata": {
        "id": "Tj5dpbEJNcCa"
      },
      "execution_count": null,
      "outputs": []
    },
    {
      "cell_type": "code",
      "source": [
        "del stats_B"
      ],
      "metadata": {
        "id": "3yshUq_hNkvt"
      },
      "execution_count": null,
      "outputs": []
    },
    {
      "cell_type": "code",
      "source": [
        "del resultados\n",
        "del VR_1_T, VG_1_T, VB_1_T\n",
        "del result\n",
        "del VR, VG, VB\n",
        "del args"
      ],
      "metadata": {
        "id": "3Qp9AEYRKRUF"
      },
      "execution_count": null,
      "outputs": []
    },
    {
      "cell_type": "code",
      "source": [
        "IVc = [R_[keys[0]],G_[keys[0]],B_[keys[0]]]\n",
        "IIIa = [R_[keys[1]],G_[keys[1]],B_[keys[1]]]\n",
        "Ia = [R_[keys[2]],G_[keys[2]],B_[keys[2]]]\n",
        "IVd = [R_[keys[3]],G_[keys[3]],B_[keys[3]]]\n",
        "IIa = [R_[keys[4]],G_[keys[4]],B_[keys[4]]]\n",
        "Va = [R_[keys[5]],G_[keys[5]],B_[keys[5]]]"
      ],
      "metadata": {
        "id": "rE2uWgquGS4I"
      },
      "execution_count": null,
      "outputs": []
    },
    {
      "cell_type": "code",
      "source": [
        "del R_, G_, B_"
      ],
      "metadata": {
        "id": "3NIPSimoKXfZ"
      },
      "execution_count": null,
      "outputs": []
    },
    {
      "cell_type": "code",
      "source": [
        "with Pool(processes=5) as pool:\n",
        "  result = pool.map(vectRGB, args)"
      ],
      "metadata": {
        "id": "CIPtkAhC13ap"
      },
      "execution_count": null,
      "outputs": []
    },
    {
      "cell_type": "code",
      "source": [
        "stats_IIIa=boxplot_stats(IIIa)\n",
        "stats_IIa=boxplot_stats(IIa)\n",
        "stats_Va=boxplot_stats(Va)\n",
        "stats_Ia=boxplot_stats(Ia)\n",
        "stats_IVc=boxplot_stats(IVc)\n",
        "stats_IVd=boxplot_stats(IVd)"
      ],
      "metadata": {
        "id": "23BZpSBPIkO2"
      },
      "execution_count": null,
      "outputs": []
    },
    {
      "cell_type": "code",
      "source": [
        "labels_= [\"(AU)\",\"(WD)\",\"(CYS)\",\"(WW)\",\"(STR)\",\"(BRU)\"]\n"
      ],
      "metadata": {
        "id": "llYvZLnYB3Eg"
      },
      "execution_count": null,
      "outputs": []
    },
    {
      "cell_type": "code",
      "source": [
        "title_1= \"R_SEC\"\n",
        "plt.figure(figsize=(10,6))\n",
        "plt.title(title_1)\n",
        "plt.boxplot([IIIa[0],IIa[0],Va[0],Ia[0],IVc[0],IVd[0]],labels=labels_)\n",
        "plt.savefig(\"/content/drive/MyDrive/RGB_STATS_PARCHE/R_SEC.png\")"
      ],
      "metadata": {
        "colab": {
          "base_uri": "https://localhost:8080/",
          "height": 390
        },
        "id": "PjmEtpfOBplL",
        "outputId": "407eb0fc-f74d-402c-a7e8-cecc61ef0daf"
      },
      "execution_count": null,
      "outputs": [
        {
          "output_type": "display_data",
          "data": {
            "text/plain": [
              "<Figure size 720x432 with 1 Axes>"
            ],
            "image/png": "[encoded data removed]"
          },
          "metadata": {
            "needs_background": "light"
          }
        }
      ]
    },
    {
      "cell_type": "code",
      "source": [
        "title_2 = \"G_SEC\"\n",
        "plt.figure(figsize=(10,6))\n",
        "plt.title(title_2)\n",
        "plt.boxplot([IIIa[0],IIa[0],Va[0],Ia[0],IVc[0],IVd[0]],labels=labels_)\n",
        "plt.savefig(\"/content/drive/MyDrive/RGB_STATS_PARCHE/G_SEC.png\")"
      ],
      "metadata": {
        "id": "gbLwDaa1DQup",
        "colab": {
          "base_uri": "https://localhost:8080/",
          "height": 390
        },
        "outputId": "f74fc795-1f91-46ef-8da3-846cb9ea5263"
      },
      "execution_count": null,
      "outputs": [
        {
          "output_type": "display_data",
          "data": {
            "text/plain": [
              "<Figure size 720x432 with 1 Axes>"
            ],
            "image/png": "[encoded data removed]"
          },
          "metadata": {
            "needs_background": "light"
          }
        }
      ]
    },
    {
      "cell_type": "code",
      "source": [
        "title_3 = \"B_SEC\"\n",
        "plt.figure(figsize=(10,6))\n",
        "plt.title(title_3)\n",
        "plt.boxplot([IIIa[0],IIa[0],Va[0],Ia[0],IVc[0],IVd[0]],labels=labels_)\n",
        "plt.savefig(\"/content/drive/MyDrive/RGB_STATS_PARCHE/B_SEC.png\")"
      ],
      "metadata": {
        "id": "4TsKNjIiDSn9",
        "colab": {
          "base_uri": "https://localhost:8080/",
          "height": 390
        },
        "outputId": "22f74472-8383-4f92-e08c-876af2a3f43a"
      },
      "execution_count": null,
      "outputs": [
        {
          "output_type": "display_data",
          "data": {
            "text/plain": [
              "<Figure size 720x432 with 1 Axes>"
            ],
            "image/png": "[encoded data removed]"
          },
          "metadata": {
            "needs_background": "light"
          }
        }
      ]
    },
    {
      "cell_type": "markdown",
      "source": [
        "#Visualización"
      ],
      "metadata": {
        "id": "tjBWg3FqBHoJ"
      }
    },
    {
      "cell_type": "code",
      "source": [
        "stats_IVc"
      ],
      "metadata": {
        "id": "eORShKrNBJl6",
        "colab": {
          "base_uri": "https://localhost:8080/"
        },
        "outputId": "84295961-a503-4cdb-ab3d-f0c976a99c45"
      },
      "execution_count": null,
      "outputs": [
        {
          "output_type": "execute_result",
          "data": {
            "text/plain": [
              "[{'mean': 173.00054225158692,\n",
              "  'iqr': 60.0,\n",
              "  'cilo': 176.98836380642234,\n",
              "  'cihi': 177.01163619357766,\n",
              "  'whishi': 255,\n",
              "  'whislo': 55,\n",
              "  'fliers': array([22, 25, 23, ..., 50, 51, 53], dtype=uint8),\n",
              "  'q1': 145.0,\n",
              "  'med': 177.0,\n",
              "  'q3': 205.0},\n",
              " {'mean': 161.89594921875,\n",
              "  'iqr': 58.0,\n",
              "  'cilo': 164.9887516795416,\n",
              "  'cihi': 165.0112483204584,\n",
              "  'whishi': 255,\n",
              "  'whislo': 48,\n",
              "  'fliers': array([21, 22, 23, ..., 44, 45, 47], dtype=uint8),\n",
              "  'q1': 135.0,\n",
              "  'med': 165.0,\n",
              "  'q3': 193.0},\n",
              " {'mean': 136.44339213562012,\n",
              "  'iqr': 57.0,\n",
              "  'cilo': 136.98894561610123,\n",
              "  'cihi': 137.01105438389877,\n",
              "  'whishi': 252,\n",
              "  'whislo': 25,\n",
              "  'fliers': array([ 16,  17,  15, ..., 255, 255, 254], dtype=uint8),\n",
              "  'q1': 110.0,\n",
              "  'med': 137.0,\n",
              "  'q3': 167.0}]"
            ]
          },
          "metadata": {},
          "execution_count": 24
        }
      ]
    },
    {
      "cell_type": "code",
      "source": [],
      "metadata": {
        "id": "--q1Z-ETwHnO"
      },
      "execution_count": null,
      "outputs": []
    }
  ],
  "metadata": {
    "colab": {
      "provenance": [],
      "mount_file_id": "1xg5VylJwEstgyLL3cS9EhGuxN33rKKyB",
      "authorship_tag": "ABX9TyN2XDX1NFkkswFUUvOu/q0p",
      "include_colab_link": true
    },
    "kernelspec": {
      "display_name": "Python 3",
      "name": "python3"
    },
    "language_info": {
      "name": "python"
    }
  },
  "nbformat": 4,
  "nbformat_minor": 0
}